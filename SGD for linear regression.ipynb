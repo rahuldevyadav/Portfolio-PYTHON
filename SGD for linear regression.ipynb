{
 "cells": [
  {
   "cell_type": "markdown",
   "metadata": {},
   "source": [
    "# 6] Exercise: Implement SGD for linear regression"
   ]
  },
  {
   "cell_type": "code",
   "execution_count": 1,
   "metadata": {},
   "outputs": [],
   "source": [
    "import warnings\n",
    "warnings.filterwarnings('ignore')\n",
    "\n",
    "\n",
    "from sklearn.datasets import load_boston\n",
    "import pandas as pd\n",
    "from sklearn.model_selection import train_test_split\n",
    "from sklearn.linear_model import LinearRegression, SGDRegressor"
   ]
  },
  {
   "cell_type": "markdown",
   "metadata": {},
   "source": [
    "## Creating train and test set"
   ]
  },
  {
   "cell_type": "code",
   "execution_count": 3,
   "metadata": {},
   "outputs": [],
   "source": [
    "boston = load_boston()\n",
    "bos = pd.DataFrame(boston.data)\n",
    "bos['PRICE'] = boston.target\n",
    "\n",
    "\n",
    "X = bos.drop('PRICE', axis = 1)\n",
    "Y = bos['PRICE']\n",
    "\n",
    "X_train, X_test, Y_train, Y_test = train_test_split(X, Y, test_size = 0.30)"
   ]
  },
  {
   "cell_type": "markdown",
   "metadata": {},
   "source": [
    "## Linear Regression and SGDRegressor"
   ]
  },
  {
   "cell_type": "code",
   "execution_count": 38,
   "metadata": {},
   "outputs": [],
   "source": [
    "# lm = LinearRegression()\n",
    "# lm.fit(X_train, Y_train)\n",
    "# pred_lm = lm.predict(X_test)\n",
    "\n",
    "sgd = SGDRegressor(max_iter=1000,eta0=0.000001)\n",
    "sgd.fit(X_train, Y_train)\n",
    "pred_sgd=sgd.predict(X_test)"
   ]
  },
  {
   "cell_type": "markdown",
   "metadata": {},
   "source": [
    "## Comparision Between SGD and Linear regression"
   ]
  },
  {
   "cell_type": "code",
   "execution_count": 39,
   "metadata": {},
   "outputs": [],
   "source": [
    "# http://scikit-learn.org/stable/modules/model_evaluation.html#regression-metrics\n",
    "from sklearn.metrics import explained_variance_score,mean_absolute_error\n",
    "from sklearn.metrics import median_absolute_error,r2_score\n",
    "\n",
    "lm_evs = explained_variance_score(Y_test, pred_lm)\n",
    "lm_mae = mean_absolute_error(Y_test, pred_lm)\n",
    "lm_med = median_absolute_error(Y_test, pred_lm)\n",
    "lm_r2 = r2_score(Y_test, pred_lm)\n",
    "\n",
    "sgd_evs = explained_variance_score(Y_test, pred_sgd)\n",
    "sgd_mae = mean_absolute_error(Y_test, pred_sgd)\n",
    "sgd_med = median_absolute_error(Y_test, pred_sgd)\n",
    "sgd_r2 = r2_score(Y_test, pred_sgd)\n"
   ]
  },
  {
   "cell_type": "code",
   "execution_count": 44,
   "metadata": {},
   "outputs": [
    {
     "name": "stdout",
     "output_type": "stream",
     "text": [
      "\tTable 2 - Comparing Value of alpha, Train error and test error\n",
      "\t~~~~~~~~~~~~~~~~~~~~~~~~~~~~~~~~~~~~~~~~~~~~~~~~~~~~~~~~~~~~~~\n",
      "+-------------------+--------------------------+---------------------+--------------------+--------------------+\n",
      "|       Model       | Explained variance score | Mean absolute error |   Median Ab. er.   |      R2_Score      |\n",
      "+-------------------+--------------------------+---------------------+--------------------+--------------------+\n",
      "| Linear Regression |    0.7093896780797531    |  3.389422255326814  | 2.6269427656036752 | 0.7091229771976693 |\n",
      "|        Sgd        |    0.3008244684455631    |  5.594713590024939  | 4.548057880233083  | 0.2993435559706774 |\n",
      "+-------------------+--------------------------+---------------------+--------------------+--------------------+\n"
     ]
    }
   ],
   "source": [
    "# http://zetcode.com/python/prettytable/\n",
    "from prettytable import PrettyTable\n",
    "x = PrettyTable()\n",
    "x.field_names = [\"Model\",\"Explained variance score\", \"Mean absolute error\", \"Median Ab. er.\", \"R2_Score\"]\n",
    "\n",
    "x.add_row([\"Linear Regression\",lm_evs,lm_mae,lm_med,lm_r2])\n",
    "x.add_row([\"Sgd\",sgd_evs,sgd_mae,sgd_med,sgd_r2])\n",
    "print('\\tTable 2 - Comparing Value of alpha, Train error and test error')\n",
    "print('\\t~~~~~~~~~~~~~~~~~~~~~~~~~~~~~~~~~~~~~~~~~~~~~~~~~~~~~~~~~~~~~~')\n",
    "\n",
    "print(x)"
   ]
  },
  {
   "cell_type": "code",
   "execution_count": 41,
   "metadata": {},
   "outputs": [
    {
     "data": {
      "image/png": "[encoded data removed]",
      "text/plain": [
       "<Figure size 432x288 with 1 Axes>"
      ]
     },
     "metadata": {},
     "output_type": "display_data"
    }
   ],
   "source": [
    "#https://pythonspot.com/matplotlib-bar-chart/\n",
    "\n",
    "import numpy as np\n",
    "import matplotlib.pyplot as plt\n",
    " \n",
    "# data to plot\n",
    "n_groups = 4\n",
    "lm = (lm_evs,lm_mae,lm_med,lm_r2)\n",
    "sgd = (sgd_evs,sgd_mae,sgd_med,sgd_r2)\n",
    " \n",
    "# create plot\n",
    "fig, ax = plt.subplots()\n",
    "index = np.arange(n_groups)\n",
    "bar_width = 0.35\n",
    "opacity = 0.8\n",
    " \n",
    "rects1 = plt.bar(index, lm, bar_width,\n",
    "                 alpha=opacity,\n",
    "                 color='b',\n",
    "                 label='Linear Reg')\n",
    " \n",
    "rects2 = plt.bar(index + bar_width, sgd, bar_width,\n",
    "                 alpha=opacity,\n",
    "                 color='g',\n",
    "                 label='SGD')\n",
    " \n",
    "plt.xlabel('Error matrices')\n",
    "plt.ylabel('error')\n",
    "plt.title('Comparision b/w LR and SGD')\n",
    "plt.xticks(index + bar_width, ('ExVarScore', 'MeanAbEr', 'MedAbEr', 'R2Sc'))\n",
    "plt.legend()\n",
    " \n",
    "# plt.tight_layout()\n",
    "plt.show()\n"
   ]
  },
  {
   "cell_type": "markdown",
   "metadata": {},
   "source": [
    "### Conclusion\n",
    "### __ Linear Regression is better than SGD regression __\n",
    "    \n",
    "    "
   ]
  },
  {
   "cell_type": "code",
   "execution_count": null,
   "metadata": {},
   "outputs": [],
   "source": []
  }
 ],
 "metadata": {
  "kernelspec": {
   "display_name": "Python 3",
   "language": "python",
   "name": "python3"
  },
  "language_info": {
   "codemirror_mode": {
    "name": "ipython",
    "version": 3
   },
   "file_extension": ".py",
   "mimetype": "text/x-python",
   "name": "python",
   "nbconvert_exporter": "python",
   "pygments_lexer": "ipython3",
   "version": "3.5.4"
  }
 },
 "nbformat": 4,
 "nbformat_minor": 2
}
