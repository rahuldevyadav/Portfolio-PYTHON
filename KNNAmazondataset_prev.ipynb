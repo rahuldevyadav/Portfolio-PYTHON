{
 "cells": [
  {
   "cell_type": "code",
   "execution_count": 1,
   "metadata": {},
   "outputs": [],
   "source": [
    "%matplotlib inline\n",
    "import numpy as np\n",
    "import pandas as pd\n",
    "# from sklearn.manifold import TSNE\n",
    "import sqlite3\n",
    "import matplotlib.pyplot as plt\n",
    "import nltk\n",
    "from nltk.stem.porter import PorterStemmer\n",
    "import re\n",
    "from nltk.stem.wordnet import WordNetLemmatizer\n",
    "from nltk.corpus import stopwords\n",
    "from sklearn.neighbors import KNeighborsClassifier\n",
    "from sklearn.metrics import accuracy_score\n",
    "# from sklearn import cross_validation"
   ]
  },
  {
   "cell_type": "code",
   "execution_count": 2,
   "metadata": {},
   "outputs": [],
   "source": [
    "# df = pd.read_sql(\"SELECT * FROM TABLE\",con)\n",
    "con = sqlite3.connect('./database.sqlite')\n",
    "df = pd.read_sql_query(\"\"\"SELECT *\n",
    "FROM Reviews\n",
    "\"\"\",con)  "
   ]
  },
  {
   "cell_type": "code",
   "execution_count": 3,
   "metadata": {},
   "outputs": [
    {
     "data": {
      "text/html": [
       "<div>\n",
       "<style scoped>\n",
       "    .dataframe tbody tr th:only-of-type {\n",
       "        vertical-align: middle;\n",
       "    }\n",
       "\n",
       "    .dataframe tbody tr th {\n",
       "        vertical-align: top;\n",
       "    }\n",
       "\n",
       "    .dataframe thead th {\n",
       "        text-align: right;\n",
       "    }\n",
       "</style>\n",
       "<table border=\"1\" class=\"dataframe\">\n",
       "  <thead>\n",
       "    <tr style=\"text-align: right;\">\n",
       "      <th></th>\n",
       "      <th>Id</th>\n",
       "      <th>ProductId</th>\n",
       "      <th>UserId</th>\n",
       "      <th>ProfileName</th>\n",
       "      <th>HelpfulnessNumerator</th>\n",
       "      <th>HelpfulnessDenominator</th>\n",
       "      <th>Score</th>\n",
       "      <th>Time</th>\n",
       "      <th>Summary</th>\n",
       "      <th>Text</th>\n",
       "    </tr>\n",
       "  </thead>\n",
       "  <tbody>\n",
       "    <tr>\n",
       "      <th>0</th>\n",
       "      <td>1</td>\n",
       "      <td>B001E4KFG0</td>\n",
       "      <td>A3SGXH7AUHU8GW</td>\n",
       "      <td>delmartian</td>\n",
       "      <td>1</td>\n",
       "      <td>1</td>\n",
       "      <td>5</td>\n",
       "      <td>1303862400</td>\n",
       "      <td>Good Quality Dog Food</td>\n",
       "      <td>I have bought several of the Vitality canned d...</td>\n",
       "    </tr>\n",
       "    <tr>\n",
       "      <th>1</th>\n",
       "      <td>2</td>\n",
       "      <td>B00813GRG4</td>\n",
       "      <td>A1D87F6ZCVE5NK</td>\n",
       "      <td>dll pa</td>\n",
       "      <td>0</td>\n",
       "      <td>0</td>\n",
       "      <td>1</td>\n",
       "      <td>1346976000</td>\n",
       "      <td>Not as Advertised</td>\n",
       "      <td>Product arrived labeled as Jumbo Salted Peanut...</td>\n",
       "    </tr>\n",
       "    <tr>\n",
       "      <th>2</th>\n",
       "      <td>3</td>\n",
       "      <td>B000LQOCH0</td>\n",
       "      <td>ABXLMWJIXXAIN</td>\n",
       "      <td>Natalia Corres \"Natalia Corres\"</td>\n",
       "      <td>1</td>\n",
       "      <td>1</td>\n",
       "      <td>4</td>\n",
       "      <td>1219017600</td>\n",
       "      <td>\"Delight\" says it all</td>\n",
       "      <td>This is a confection that has been around a fe...</td>\n",
       "    </tr>\n",
       "    <tr>\n",
       "      <th>3</th>\n",
       "      <td>4</td>\n",
       "      <td>B000UA0QIQ</td>\n",
       "      <td>A395BORC6FGVXV</td>\n",
       "      <td>Karl</td>\n",
       "      <td>3</td>\n",
       "      <td>3</td>\n",
       "      <td>2</td>\n",
       "      <td>1307923200</td>\n",
       "      <td>Cough Medicine</td>\n",
       "      <td>If you are looking for the secret ingredient i...</td>\n",
       "    </tr>\n",
       "    <tr>\n",
       "      <th>4</th>\n",
       "      <td>5</td>\n",
       "      <td>B006K2ZZ7K</td>\n",
       "      <td>A1UQRSCLF8GW1T</td>\n",
       "      <td>Michael D. Bigham \"M. Wassir\"</td>\n",
       "      <td>0</td>\n",
       "      <td>0</td>\n",
       "      <td>5</td>\n",
       "      <td>1350777600</td>\n",
       "      <td>Great taffy</td>\n",
       "      <td>Great taffy at a great price.  There was a wid...</td>\n",
       "    </tr>\n",
       "  </tbody>\n",
       "</table>\n",
       "</div>"
      ],
      "text/plain": [
       "   Id   ProductId          UserId                      ProfileName  \\\n",
       "0   1  B001E4KFG0  A3SGXH7AUHU8GW                       delmartian   \n",
       "1   2  B00813GRG4  A1D87F6ZCVE5NK                           dll pa   \n",
       "2   3  B000LQOCH0   ABXLMWJIXXAIN  Natalia Corres \"Natalia Corres\"   \n",
       "3   4  B000UA0QIQ  A395BORC6FGVXV                             Karl   \n",
       "4   5  B006K2ZZ7K  A1UQRSCLF8GW1T    Michael D. Bigham \"M. Wassir\"   \n",
       "\n",
       "   HelpfulnessNumerator  HelpfulnessDenominator  Score        Time  \\\n",
       "0                     1                       1      5  1303862400   \n",
       "1                     0                       0      1  1346976000   \n",
       "2                     1                       1      4  1219017600   \n",
       "3                     3                       3      2  1307923200   \n",
       "4                     0                       0      5  1350777600   \n",
       "\n",
       "                 Summary                                               Text  \n",
       "0  Good Quality Dog Food  I have bought several of the Vitality canned d...  \n",
       "1      Not as Advertised  Product arrived labeled as Jumbo Salted Peanut...  \n",
       "2  \"Delight\" says it all  This is a confection that has been around a fe...  \n",
       "3         Cough Medicine  If you are looking for the secret ingredient i...  \n",
       "4            Great taffy  Great taffy at a great price.  There was a wid...  "
      ]
     },
     "execution_count": 3,
     "metadata": {},
     "output_type": "execute_result"
    }
   ],
   "source": [
    "df.head()"
   ]
  },
  {
   "cell_type": "markdown",
   "metadata": {},
   "source": [
    "## Data Preprocessing"
   ]
  },
  {
   "cell_type": "code",
   "execution_count": 4,
   "metadata": {},
   "outputs": [
    {
     "data": {
      "text/plain": [
       "positive    443777\n",
       "negative    124677\n",
       "Name: review, dtype: int64"
      ]
     },
     "execution_count": 4,
     "metadata": {},
     "output_type": "execute_result"
    }
   ],
   "source": [
    "# df.Score.value_counts()\n",
    "df = df.dropna()\n",
    "# df.shape\n",
    "# https://stac|koverflow.com/questions/19913659/pandas-conditional-creation-of-a-series-dataframe-column\n",
    "df['review'] = np.where(df['Score']>3, 'positive', 'negative')\n",
    "df.review.value_counts()"
   ]
  },
  {
   "cell_type": "code",
   "execution_count": 5,
   "metadata": {},
   "outputs": [],
   "source": [
    "#i will be using only 10% of available data  \n",
    "#this assignments\n",
    "#https://stackoverflow.com/questions/38085547/random-sample-of-a-subset-of-a-dataframe-in-pandas\n",
    "# sample = np.random.uniform(0,len(df),int(len(df)*0.10))\n",
    "# df_sample = df.iloc[sample]\n",
    "df_sample = df"
   ]
  },
  {
   "cell_type": "markdown",
   "metadata": {},
   "source": [
    "#### removing duplicate copies "
   ]
  },
  {
   "cell_type": "code",
   "execution_count": 6,
   "metadata": {},
   "outputs": [],
   "source": [
    "sorted_data=df_sample.sort_values('ProductId', axis=0, ascending=True, inplace=False, kind='quicksort', na_position='last')\n",
    "final=sorted_data.drop_duplicates(subset={\"UserId\",\"ProfileName\",\"Time\",\"Text\"}, keep='first', inplace=False)\n",
    "final=final[final.HelpfulnessNumerator<=final.HelpfulnessDenominator]"
   ]
  },
  {
   "cell_type": "code",
   "execution_count": 7,
   "metadata": {},
   "outputs": [
    {
     "name": "stdout",
     "output_type": "stream",
     "text": [
      "Final Data \n",
      "\n",
      "Total number of Datapoints - 393931 \n",
      "\n",
      "Total Number Features or Independent Variable - 10 \n",
      "\n",
      "The Positive review has label \"positive\" and \"307052\" datapoint \n",
      "\n",
      "The Negatve review has class label \"negative\" and \"86879\" datapoints\n"
     ]
    }
   ],
   "source": [
    "DataPoints, Features = final.shape\n",
    "l= final[\"review\"].unique()\n",
    "x,y= final[\"review\"].value_counts()\n",
    "print(\"Final Data \\n\")\n",
    "# print(len(l))\n",
    "print (\"Total number of Datapoints -\",DataPoints,'\\n\\n'\n",
    "      'Total Number Features or Independent Variable -',Features-1,'\\n')\n",
    "print('The Positive review has label \\\"{}\\\" and \\\"{}\\\" datapoint \\n'.format(l[0],x))\n",
    "print('The Negatve review has class label \\\"{}\\\" and \\\"{}\\\" datapoints'.format(l[1],y))"
   ]
  },
  {
   "cell_type": "markdown",
   "metadata": {},
   "source": [
    "### Text preprocessing"
   ]
  },
  {
   "cell_type": "code",
   "execution_count": 8,
   "metadata": {},
   "outputs": [],
   "source": [
    "import itertools\n",
    "\n",
    "def cleanhtml(sentence): #function to clean the word of any html-tags\n",
    "    cleanr = re.compile('<.*?>')\n",
    "    cleantext = re.sub(cleanr, ' ', sentence)\n",
    "    return cleantext.lower()\n",
    "\n",
    "def cleanpunc(sentence): #function to clean the word of any punctuation or special characters\n",
    "    cleaned = re.sub(r'[?|!|\\';|\"|#]',r'',sentence)\n",
    "    cleaned = re.sub(r'[.|,|)|(|\\|/]',r' ',cleaned)\n",
    "    return  cleaned\n",
    "\n",
    "# # cleaned Text\n",
    "final['CleanedText']=list(map(cleanhtml,(map(cleanpunc,final['Text']))))\n",
    "final['CleanedSummary']=list(map(cleanhtml,(map(cleanpunc,final['Summary']))))"
   ]
  },
  {
   "cell_type": "code",
   "execution_count": 9,
   "metadata": {},
   "outputs": [],
   "source": [
    "\n",
    "stop = set(stopwords.words('english')) #set of stopwords\n",
    "\n",
    "sno = nltk.stem.SnowballStemmer('english') #initialising the snowball stemmer\n",
    "def list_of_words(sentence):\n",
    "    word=[]\n",
    "    for cleaned_words in sentence.split():\n",
    "        if((cleaned_words.isalpha()) & (len(cleaned_words)>2)):\n",
    "#             s=(sno.stem(cleaned_words.lower())).encode('utf8')\n",
    "#             word.append(s) #list of all words used to describe positive reviews\n",
    "\n",
    "            if(cleaned_words.lower() not in stop):\n",
    "                s=(sno.stem(cleaned_words.lower()))#.encode('utf8')  #remoiving utf give \n",
    "                word.append(s) #list of all words used to describe positive reviews\n",
    "            else:\n",
    "                continue\n",
    "        else:\n",
    "            continue\n",
    "#     return word\n",
    "#   joing string for dataframes\n",
    "    words=' '.join(str(e) for e in word)\n",
    "    return words\n",
    "\n",
    "# positive=(final[final['review']==\"positive\"])\n",
    "# all_positive_words=list(itertools.chain(*list(map(list_of_words,positive['CleanedText']))))\n",
    "\n",
    "# negative=(final[final['review']==\"negative\"])\n",
    "# all_negative_words=list(itertools.chain(*list(map(list_of_words,negative['CleanedText']))))\n",
    "# cleaned text without stopwords\n",
    "\n",
    "\n",
    "## creating text without stopwords\n",
    "final['WoutStopWords']=list(map(list_of_words,final['CleanedText']))\n",
    "## creating sumary without stopwords\n",
    "# final['WoutStopWordsSummary']=list(map(list_of_words,final['CleanedSummary']))"
   ]
  },
  {
   "cell_type": "code",
   "execution_count": 10,
   "metadata": {
    "scrolled": true
   },
   "outputs": [
    {
     "data": {
      "text/html": [
       "<div>\n",
       "<style scoped>\n",
       "    .dataframe tbody tr th:only-of-type {\n",
       "        vertical-align: middle;\n",
       "    }\n",
       "\n",
       "    .dataframe tbody tr th {\n",
       "        vertical-align: top;\n",
       "    }\n",
       "\n",
       "    .dataframe thead th {\n",
       "        text-align: right;\n",
       "    }\n",
       "</style>\n",
       "<table border=\"1\" class=\"dataframe\">\n",
       "  <thead>\n",
       "    <tr style=\"text-align: right;\">\n",
       "      <th></th>\n",
       "      <th>Id</th>\n",
       "      <th>ProductId</th>\n",
       "      <th>UserId</th>\n",
       "      <th>ProfileName</th>\n",
       "      <th>HelpfulnessNumerator</th>\n",
       "      <th>HelpfulnessDenominator</th>\n",
       "      <th>Score</th>\n",
       "      <th>Time</th>\n",
       "      <th>Summary</th>\n",
       "      <th>Text</th>\n",
       "      <th>review</th>\n",
       "      <th>CleanedText</th>\n",
       "      <th>CleanedSummary</th>\n",
       "      <th>WoutStopWords</th>\n",
       "    </tr>\n",
       "  </thead>\n",
       "  <tbody>\n",
       "    <tr>\n",
       "      <th>150528</th>\n",
       "      <td>150529</td>\n",
       "      <td>0006641040</td>\n",
       "      <td>A25ACLV5KPB4W</td>\n",
       "      <td>Matt Hetling \"Matt\"</td>\n",
       "      <td>0</td>\n",
       "      <td>1</td>\n",
       "      <td>4</td>\n",
       "      <td>1108425600</td>\n",
       "      <td>Nice cadence, catchy rhymes</td>\n",
       "      <td>In June&lt;br /&gt;I saw a charming group&lt;br /&gt;of ro...</td>\n",
       "      <td>positive</td>\n",
       "      <td>in june i saw a charming group of roses all be...</td>\n",
       "      <td>nice cadence  catchy rhymes</td>\n",
       "      <td>june saw charm group rose begin droop pep chic...</td>\n",
       "    </tr>\n",
       "    <tr>\n",
       "      <th>150506</th>\n",
       "      <td>150507</td>\n",
       "      <td>0006641040</td>\n",
       "      <td>A1S4A3IQ2MU7V4</td>\n",
       "      <td>sally sue \"sally sue\"</td>\n",
       "      <td>1</td>\n",
       "      <td>1</td>\n",
       "      <td>4</td>\n",
       "      <td>1191456000</td>\n",
       "      <td>chicken soup with rice months</td>\n",
       "      <td>This is a fun way for children to learn their ...</td>\n",
       "      <td>positive</td>\n",
       "      <td>this is a fun way for children to learn their ...</td>\n",
       "      <td>chicken soup with rice months</td>\n",
       "      <td>fun way children learn month year learn poem t...</td>\n",
       "    </tr>\n",
       "    <tr>\n",
       "      <th>150505</th>\n",
       "      <td>150506</td>\n",
       "      <td>0006641040</td>\n",
       "      <td>A2IW4PEEKO2R0U</td>\n",
       "      <td>Tracy</td>\n",
       "      <td>1</td>\n",
       "      <td>1</td>\n",
       "      <td>4</td>\n",
       "      <td>1194739200</td>\n",
       "      <td>Love the book, miss the hard cover version</td>\n",
       "      <td>I grew up reading these Sendak books, and watc...</td>\n",
       "      <td>positive</td>\n",
       "      <td>i grew up reading these sendak books  and watc...</td>\n",
       "      <td>love the book  miss the hard cover version</td>\n",
       "      <td>grew read sendak book watch realli rosi movi i...</td>\n",
       "    </tr>\n",
       "    <tr>\n",
       "      <th>150504</th>\n",
       "      <td>150505</td>\n",
       "      <td>0006641040</td>\n",
       "      <td>A2PTSM496CF40Z</td>\n",
       "      <td>Jason A. Teeple \"Nobody made a greater mistak...</td>\n",
       "      <td>1</td>\n",
       "      <td>1</td>\n",
       "      <td>4</td>\n",
       "      <td>1210809600</td>\n",
       "      <td>A classic</td>\n",
       "      <td>Get the movie or sound track and sing along wi...</td>\n",
       "      <td>positive</td>\n",
       "      <td>get the movie or sound track and sing along wi...</td>\n",
       "      <td>a classic</td>\n",
       "      <td>get movi sound track sing along carol king gre...</td>\n",
       "    </tr>\n",
       "    <tr>\n",
       "      <th>150503</th>\n",
       "      <td>150504</td>\n",
       "      <td>0006641040</td>\n",
       "      <td>AQEYF1AXARWJZ</td>\n",
       "      <td>Les Sinclair \"book maven\"</td>\n",
       "      <td>1</td>\n",
       "      <td>1</td>\n",
       "      <td>4</td>\n",
       "      <td>1212278400</td>\n",
       "      <td>Chicken Soup with Rice</td>\n",
       "      <td>A very entertaining rhyming story--cleaver and...</td>\n",
       "      <td>positive</td>\n",
       "      <td>a very entertaining rhyming story--cleaver and...</td>\n",
       "      <td>chicken soup with rice</td>\n",
       "      <td>entertain rhyme catchi illustr imagin fit righ...</td>\n",
       "    </tr>\n",
       "  </tbody>\n",
       "</table>\n",
       "</div>"
      ],
      "text/plain": [
       "            Id   ProductId          UserId  \\\n",
       "150528  150529  0006641040   A25ACLV5KPB4W   \n",
       "150506  150507  0006641040  A1S4A3IQ2MU7V4   \n",
       "150505  150506  0006641040  A2IW4PEEKO2R0U   \n",
       "150504  150505  0006641040  A2PTSM496CF40Z   \n",
       "150503  150504  0006641040   AQEYF1AXARWJZ   \n",
       "\n",
       "                                             ProfileName  \\\n",
       "150528                               Matt Hetling \"Matt\"   \n",
       "150506                             sally sue \"sally sue\"   \n",
       "150505                                             Tracy   \n",
       "150504  Jason A. Teeple \"Nobody made a greater mistak...   \n",
       "150503                         Les Sinclair \"book maven\"   \n",
       "\n",
       "        HelpfulnessNumerator  HelpfulnessDenominator  Score        Time  \\\n",
       "150528                     0                       1      4  1108425600   \n",
       "150506                     1                       1      4  1191456000   \n",
       "150505                     1                       1      4  1194739200   \n",
       "150504                     1                       1      4  1210809600   \n",
       "150503                     1                       1      4  1212278400   \n",
       "\n",
       "                                           Summary  \\\n",
       "150528                 Nice cadence, catchy rhymes   \n",
       "150506               chicken soup with rice months   \n",
       "150505  Love the book, miss the hard cover version   \n",
       "150504                                   A classic   \n",
       "150503                      Chicken Soup with Rice   \n",
       "\n",
       "                                                     Text    review  \\\n",
       "150528  In June<br />I saw a charming group<br />of ro...  positive   \n",
       "150506  This is a fun way for children to learn their ...  positive   \n",
       "150505  I grew up reading these Sendak books, and watc...  positive   \n",
       "150504  Get the movie or sound track and sing along wi...  positive   \n",
       "150503  A very entertaining rhyming story--cleaver and...  positive   \n",
       "\n",
       "                                              CleanedText  \\\n",
       "150528  in june i saw a charming group of roses all be...   \n",
       "150506  this is a fun way for children to learn their ...   \n",
       "150505  i grew up reading these sendak books  and watc...   \n",
       "150504  get the movie or sound track and sing along wi...   \n",
       "150503  a very entertaining rhyming story--cleaver and...   \n",
       "\n",
       "                                    CleanedSummary  \\\n",
       "150528                 nice cadence  catchy rhymes   \n",
       "150506               chicken soup with rice months   \n",
       "150505  love the book  miss the hard cover version   \n",
       "150504                                   a classic   \n",
       "150503                      chicken soup with rice   \n",
       "\n",
       "                                            WoutStopWords  \n",
       "150528  june saw charm group rose begin droop pep chic...  \n",
       "150506  fun way children learn month year learn poem t...  \n",
       "150505  grew read sendak book watch realli rosi movi i...  \n",
       "150504  get movi sound track sing along carol king gre...  \n",
       "150503  entertain rhyme catchi illustr imagin fit righ...  "
      ]
     },
     "execution_count": 10,
     "metadata": {},
     "output_type": "execute_result"
    }
   ],
   "source": [
    "final.head()"
   ]
  },
  {
   "cell_type": "markdown",
   "metadata": {},
   "source": [
    "## Creating  Training and test dataset"
   ]
  },
  {
   "cell_type": "code",
   "execution_count": 11,
   "metadata": {},
   "outputs": [],
   "source": [
    "#i will be using only 10% of available data  \n",
    "#this assignments\n",
    "#https://stackoverflow.com/questions/38085547/random-sample-of-a-subset-of-a-dataframe-in-pandas\n",
    "sample = np.random.uniform(0,len(final),int(len(final)*0.10))\n",
    "final_sample = final.iloc[sample]"
   ]
  },
  {
   "cell_type": "code",
   "execution_count": 14,
   "metadata": {},
   "outputs": [
    {
     "data": {
      "text/html": [
       "<div>\n",
       "<style scoped>\n",
       "    .dataframe tbody tr th:only-of-type {\n",
       "        vertical-align: middle;\n",
       "    }\n",
       "\n",
       "    .dataframe tbody tr th {\n",
       "        vertical-align: top;\n",
       "    }\n",
       "\n",
       "    .dataframe thead th {\n",
       "        text-align: right;\n",
       "    }\n",
       "</style>\n",
       "<table border=\"1\" class=\"dataframe\">\n",
       "  <thead>\n",
       "    <tr style=\"text-align: right;\">\n",
       "      <th></th>\n",
       "      <th>Time</th>\n",
       "      <th>WoutStopWords</th>\n",
       "      <th>review</th>\n",
       "    </tr>\n",
       "  </thead>\n",
       "  <tbody>\n",
       "    <tr>\n",
       "      <th>150500</th>\n",
       "      <td>940809600</td>\n",
       "      <td>rememb see show air televis year ago child sis...</td>\n",
       "      <td>positive</td>\n",
       "    </tr>\n",
       "    <tr>\n",
       "      <th>374338</th>\n",
       "      <td>997228800</td>\n",
       "      <td>continu amaz shoddi treatment movi get dvd rel...</td>\n",
       "      <td>negative</td>\n",
       "    </tr>\n",
       "    <tr>\n",
       "      <th>361316</th>\n",
       "      <td>1010275200</td>\n",
       "      <td>year tri simul truli italian espresso cappucci...</td>\n",
       "      <td>positive</td>\n",
       "    </tr>\n",
       "    <tr>\n",
       "      <th>374419</th>\n",
       "      <td>1013385600</td>\n",
       "      <td>michael keaton alreadi way major star play gho...</td>\n",
       "      <td>positive</td>\n",
       "    </tr>\n",
       "    <tr>\n",
       "      <th>479729</th>\n",
       "      <td>1022112000</td>\n",
       "      <td>never dissapoint great gadget compani come bro...</td>\n",
       "      <td>positive</td>\n",
       "    </tr>\n",
       "  </tbody>\n",
       "</table>\n",
       "</div>"
      ],
      "text/plain": [
       "              Time                                      WoutStopWords  \\\n",
       "150500   940809600  rememb see show air televis year ago child sis...   \n",
       "374338   997228800  continu amaz shoddi treatment movi get dvd rel...   \n",
       "361316  1010275200  year tri simul truli italian espresso cappucci...   \n",
       "374419  1013385600  michael keaton alreadi way major star play gho...   \n",
       "479729  1022112000  never dissapoint great gadget compani come bro...   \n",
       "\n",
       "          review  \n",
       "150500  positive  \n",
       "374338  negative  \n",
       "361316  positive  \n",
       "374419  positive  \n",
       "479729  positive  "
      ]
     },
     "execution_count": 14,
     "metadata": {},
     "output_type": "execute_result"
    }
   ],
   "source": [
    "# creating dataset by removing unwanted data\n",
    "X = final_sample[['Time',\"WoutStopWords\",'review']]\n",
    "X = X.sort_values(['Time'],ascending=True)\n",
    "X.head()"
   ]
  },
  {
   "cell_type": "code",
   "execution_count": 15,
   "metadata": {},
   "outputs": [],
   "source": [
    "## 70% of sorted data will = Total number of rows (sorted) *0.7\n",
    "X_train = X.iloc[:int(len(X)*.7),1] \n",
    "Y_train = X.iloc[:int(len(X)*.7),-1]\n",
    "# len(Y_train)== len(X_train)\n",
    "X_test = X.iloc[int(len(X)*.7)+1:,1] \n",
    "Y_test = X.iloc[int(len(X)*.7)+1:,-1]\n",
    "# len(Y_test)== len(X_test)"
   ]
  },
  {
   "cell_type": "code",
   "execution_count": 16,
   "metadata": {},
   "outputs": [
    {
     "data": {
      "text/plain": [
       "150500    rememb see show air televis year ago child sis...\n",
       "374338    continu amaz shoddi treatment movi get dvd rel...\n",
       "361316    year tri simul truli italian espresso cappucci...\n",
       "374419    michael keaton alreadi way major star play gho...\n",
       "479729    never dissapoint great gadget compani come bro...\n",
       "Name: WoutStopWords, dtype: object"
      ]
     },
     "execution_count": 16,
     "metadata": {},
     "output_type": "execute_result"
    }
   ],
   "source": [
    "X_train.head()"
   ]
  },
  {
   "cell_type": "markdown",
   "metadata": {},
   "source": [
    "# Bag of Words"
   ]
  },
  {
   "cell_type": "code",
   "execution_count": 17,
   "metadata": {},
   "outputs": [],
   "source": [
    "# #BoW without bigram\n",
    "from sklearn.feature_extraction.text import CountVectorizer\n",
    "vectorizer = CountVectorizer()\n",
    "Xtrain = vectorizer.fit_transform(X_train.values)\n",
    "Xtest = vectorizer.transform(X_test.values)\n",
    "# Xtest.shape\n"
   ]
  },
  {
   "cell_type": "code",
   "execution_count": 18,
   "metadata": {},
   "outputs": [],
   "source": [
    "# http://scikit-learn.org/stable/modules/generated/sklearn.preprocessing.LabelEncoder.html\n",
    "# encoding label data\n",
    "from sklearn import preprocessing\n",
    "le = preprocessing.LabelEncoder()\n",
    "Ytrain = le.fit_transform(Y_train)\n",
    "\n",
    "Ytest = le.transform(Y_test)"
   ]
  },
  {
   "cell_type": "code",
   "execution_count": 19,
   "metadata": {},
   "outputs": [],
   "source": [
    "# forward feature selection using sklearn\n",
    "# http://scikit-learn.org/stable/modules/feature_selection.html\n",
    "from sklearn.svm import LinearSVC\n",
    "from sklearn.feature_selection import SelectFromModel\n",
    "lsvc = LinearSVC(C=0.01, penalty=\"l1\", dual=False).fit(Xtrain, Ytrain)\n",
    "model = SelectFromModel(lsvc, prefit=True)\n",
    "xtrain = model.transform(Xtrain)\n",
    "xtest = model.transform(Xtest)"
   ]
  },
  {
   "cell_type": "markdown",
   "metadata": {},
   "source": [
    "### 10-fold cross validation Knn"
   ]
  },
  {
   "cell_type": "code",
   "execution_count": 20,
   "metadata": {},
   "outputs": [
    {
     "name": "stdout",
     "output_type": "stream",
     "text": [
      "Neighbour k =  1 ; time taken 19 seconds; Accuracy = 74.38\n",
      "Neighbour k =  3 ; time taken 21 seconds; Accuracy = 77.77\n",
      "Neighbour k =  5 ; time taken 23 seconds; Accuracy = 79.08\n",
      "Neighbour k =  7 ; time taken 23 seconds; Accuracy = 79.75\n",
      "Neighbour k =  9 ; time taken 22 seconds; Accuracy = 80.0\n",
      "Neighbour k =  11 ; time taken 22 seconds; Accuracy = 80.35\n",
      "Neighbour k =  13 ; time taken 22 seconds; Accuracy = 80.37\n",
      "Neighbour k =  15 ; time taken 22 seconds; Accuracy = 80.24\n",
      "Neighbour k =  17 ; time taken 22 seconds; Accuracy = 80.16\n",
      "Neighbour k =  19 ; time taken 22 seconds; Accuracy = 80.02\n",
      "Neighbour k =  21 ; time taken 22 seconds; Accuracy = 80.09\n",
      "Neighbour k =  23 ; time taken 22 seconds; Accuracy = 80.0\n",
      "Neighbour k =  25 ; time taken 22 seconds; Accuracy = 80.13\n",
      "Neighbour k =  27 ; time taken 22 seconds; Accuracy = 80.01\n",
      "Neighbour k =  29 ; time taken 22 seconds; Accuracy = 79.89\n",
      "Neighbour k =  31 ; time taken 22 seconds; Accuracy = 79.86\n",
      "Neighbour k =  33 ; time taken 22 seconds; Accuracy = 79.79\n",
      "Neighbour k =  35 ; time taken 23 seconds; Accuracy = 79.79\n",
      "Neighbour k =  37 ; time taken 22 seconds; Accuracy = 79.78\n",
      "Neighbour k =  39 ; time taken 22 seconds; Accuracy = 79.72\n",
      "Neighbour k =  41 ; time taken 22 seconds; Accuracy = 79.66\n",
      "Neighbour k =  43 ; time taken 22 seconds; Accuracy = 79.58\n",
      "Neighbour k =  45 ; time taken 22 seconds; Accuracy = 79.6\n",
      "Neighbour k =  47 ; time taken 22 seconds; Accuracy = 79.53\n",
      "Neighbour k =  49 ; time taken 22 seconds; Accuracy = 79.55\n"
     ]
    }
   ],
   "source": [
    "# https://kevinzakka.github.io/2016/07/13/k-nearest-neighbor/\n",
    "\n",
    "from sklearn.model_selection import cross_val_score\n",
    "import time\n",
    "\n",
    "cv_scores = []\n",
    "timelist=[] \n",
    "\n",
    "\n",
    "for k in range(1,50,2):\n",
    "    start_time = time.time()\n",
    "    knn = KNeighborsClassifier(n_neighbors=k)\n",
    "    \n",
    "    scores = cross_val_score(knn, xtrain, Ytrain, cv=10, scoring='accuracy')\n",
    "    t=time.time() - start_time\n",
    "    print(\"Neighbour k = \",k,\"; time taken\",int(time.time() - start_time),'seconds;','Accuracy =',round(scores.mean()*100,2))\n",
    "    t=time.time() - start_time\n",
    "    timelist.append(t)\n",
    "    \n",
    "    cv_scores.append(scores.mean())\n",
    "    \n",
    "    # stoping condition when change in acuraccy is less than 1%\n",
    "#     if scores.mean()-score1>0.001:\n",
    "#         score1=scores.mean()\n",
    "#         continue\n",
    "#     else:\n",
    "#         break\n",
    "        \n"
   ]
  },
  {
   "cell_type": "code",
   "execution_count": 21,
   "metadata": {
    "scrolled": true
   },
   "outputs": [
    {
     "name": "stdout",
     "output_type": "stream",
     "text": [
      "The optimal number of neighbors is 13\n"
     ]
    },
    {
     "data": {
      "image/png": "[encoded data removed]",
      "text/plain": [
       "<Figure size 432x288 with 1 Axes>"
      ]
     },
     "metadata": {},
     "output_type": "display_data"
    },
    {
     "name": "stdout",
     "output_type": "stream",
     "text": [
      "Training accuracy for K = 13 is 80.37\n"
     ]
    }
   ],
   "source": [
    "# changing to misclassification error\n",
    "MSE = [1 - x for x in cv_scores]\n",
    "neighbors = list(range(1,50,2))\n",
    "# determining best k\n",
    "optimal_k = neighbors[MSE.index(min(MSE))]\n",
    "print (\"The optimal number of neighbors is %d\" % optimal_k)\n",
    "\n",
    "# plot misclassification error vs k\n",
    "plt.plot(neighbors, MSE)\n",
    "plt.xlabel('Number of Neighbors K')\n",
    "plt.ylabel('Misclassification Error')\n",
    "plt.show()\n",
    "print (\"Training accuracy for K =\",optimal_k,'is',round(max(cv_scores)*100,2) )"
   ]
  },
  {
   "cell_type": "code",
   "execution_count": 22,
   "metadata": {},
   "outputs": [],
   "source": [
    "knn = KNeighborsClassifier(n_neighbors=optimal_k)\n",
    "start_time = time.time()\n",
    "knn.fit( xtrain, Ytrain)\n",
    "traingTime=time.time() - start_time\n",
    "# model = KNeighborsClassifier(n_neighbors=5,algorithm='kd_tree').fit(X_train, Y_train)"
   ]
  },
  {
   "cell_type": "code",
   "execution_count": 23,
   "metadata": {},
   "outputs": [],
   "source": [
    "pred=knn.predict(xtest)"
   ]
  },
  {
   "cell_type": "code",
   "execution_count": 24,
   "metadata": {},
   "outputs": [],
   "source": [
    "acc_BoW=accuracy_score(Ytest,pred,normalize=True)"
   ]
  },
  {
   "cell_type": "code",
   "execution_count": 25,
   "metadata": {},
   "outputs": [
    {
     "name": "stdout",
     "output_type": "stream",
     "text": [
      "Test accuracy 78.7  for k= 13 Average time taken training in (seconds) 0.0\n"
     ]
    }
   ],
   "source": [
    "print('Test accuracy',round(acc_BoW*100,2),' for k=',optimal_k,'Average time taken training in (seconds)' \n",
    "      ,round(traingTime,2))"
   ]
  },
  {
   "cell_type": "markdown",
   "metadata": {},
   "source": [
    "# TF-IDF"
   ]
  },
  {
   "cell_type": "code",
   "execution_count": 26,
   "metadata": {},
   "outputs": [],
   "source": [
    "# from sklearn.feature_extraction.text import TfidfTransformer\n",
    "from sklearn.feature_extraction.text import TfidfVectorizer\n",
    "tf_idf_vect = TfidfVectorizer()\n",
    "Xtrain_tf_idf = tf_idf_vect.fit_transform(X_train.values)\n",
    "Xtest_tf_idf = tf_idf_vect.transform(X_test.values)"
   ]
  },
  {
   "cell_type": "code",
   "execution_count": 27,
   "metadata": {},
   "outputs": [],
   "source": [
    "lsvc = LinearSVC(C=0.01, penalty=\"l1\", dual=False).fit(Xtrain_tf_idf, Ytrain)\n",
    "model = SelectFromModel(lsvc, prefit=True)\n",
    "xtrain_tf = model.transform(Xtrain_tf_idf)\n",
    "xtest_tf = model.transform(Xtest_tf_idf)"
   ]
  },
  {
   "cell_type": "code",
   "execution_count": 28,
   "metadata": {},
   "outputs": [
    {
     "name": "stdout",
     "output_type": "stream",
     "text": [
      "Neighbour k =  1 ; time taken 12 seconds; Accuracy = 75.35\n",
      "Neighbour k =  3 ; time taken 13 seconds; Accuracy = 77.93\n",
      "Neighbour k =  5 ; time taken 17 seconds; Accuracy = 79.1\n",
      "Neighbour k =  7 ; time taken 17 seconds; Accuracy = 79.65\n",
      "Neighbour k =  9 ; time taken 17 seconds; Accuracy = 79.96\n",
      "Neighbour k =  11 ; time taken 17 seconds; Accuracy = 79.92\n",
      "Neighbour k =  13 ; time taken 17 seconds; Accuracy = 79.99\n",
      "Neighbour k =  15 ; time taken 17 seconds; Accuracy = 80.42\n",
      "Neighbour k =  17 ; time taken 18 seconds; Accuracy = 80.46\n",
      "Neighbour k =  19 ; time taken 17 seconds; Accuracy = 80.59\n",
      "Neighbour k =  21 ; time taken 17 seconds; Accuracy = 80.87\n",
      "Neighbour k =  23 ; time taken 17 seconds; Accuracy = 80.87\n",
      "Neighbour k =  25 ; time taken 17 seconds; Accuracy = 80.6\n",
      "Neighbour k =  27 ; time taken 17 seconds; Accuracy = 80.72\n",
      "Neighbour k =  29 ; time taken 17 seconds; Accuracy = 80.94\n",
      "Neighbour k =  31 ; time taken 17 seconds; Accuracy = 80.79\n",
      "Neighbour k =  33 ; time taken 17 seconds; Accuracy = 80.78\n",
      "Neighbour k =  35 ; time taken 17 seconds; Accuracy = 80.8\n",
      "Neighbour k =  37 ; time taken 17 seconds; Accuracy = 80.7\n",
      "Neighbour k =  39 ; time taken 17 seconds; Accuracy = 80.73\n",
      "Neighbour k =  41 ; time taken 17 seconds; Accuracy = 80.73\n",
      "Neighbour k =  43 ; time taken 17 seconds; Accuracy = 80.66\n",
      "Neighbour k =  45 ; time taken 17 seconds; Accuracy = 80.75\n",
      "Neighbour k =  47 ; time taken 17 seconds; Accuracy = 80.75\n",
      "Neighbour k =  49 ; time taken 17 seconds; Accuracy = 80.7\n"
     ]
    }
   ],
   "source": [
    "cv_scores_1 = []\n",
    "timelist_1=[] \n",
    "\n",
    "\n",
    "for k in range(1,50,2):\n",
    "    start_time = time.time()\n",
    "    knn_1 = KNeighborsClassifier(n_neighbors=k)\n",
    "    \n",
    "    scores = cross_val_score(knn_1, xtrain_tf, Ytrain, cv=10, scoring='accuracy')\n",
    "    t=time.time() - start_time\n",
    "    print(\"Neighbour k = \",k,\"; time taken\",int(time.time() - start_time),'seconds;','Accuracy =',round(scores.mean()*100,2))\n",
    "    t=time.time() - start_time\n",
    "    timelist_1.append(t)\n",
    "    \n",
    "    cv_scores_1.append(scores.mean())"
   ]
  },
  {
   "cell_type": "code",
   "execution_count": 29,
   "metadata": {},
   "outputs": [
    {
     "name": "stdout",
     "output_type": "stream",
     "text": [
      "The optimal number of neighbors is 29\n"
     ]
    },
    {
     "data": {
      "image/png": "[encoded data removed]",
      "text/plain": [
       "<Figure size 432x288 with 1 Axes>"
      ]
     },
     "metadata": {},
     "output_type": "display_data"
    },
    {
     "name": "stdout",
     "output_type": "stream",
     "text": [
      "Training accuracy for K = 29 is 80.94\n"
     ]
    }
   ],
   "source": [
    "#  changing to misclassification error\n",
    "MSE_1 = [1 - x for x in cv_scores_1]\n",
    "neighbors_1 = list(range(1,50,2))\n",
    "# determining best k\n",
    "optimal_k_1 = neighbors[MSE_1.index(min(MSE_1))]\n",
    "print (\"The optimal number of neighbors is %d\" % optimal_k_1)\n",
    "\n",
    "# plot misclassification error vs k\n",
    "plt.plot(neighbors_1, MSE_1)\n",
    "plt.xlabel('Number of Neighbors K')\n",
    "plt.ylabel('Misclassification Error')\n",
    "plt.show()\n",
    "print (\"Training accuracy for K =\",optimal_k_1,'is',round(max(cv_scores_1)*100,2) )"
   ]
  },
  {
   "cell_type": "code",
   "execution_count": 30,
   "metadata": {},
   "outputs": [],
   "source": [
    "knn_1 = KNeighborsClassifier(n_neighbors=optimal_k_1)\n",
    "start_time = time.time()\n",
    "knn_1.fit( xtrain_tf, Ytrain)\n",
    "traingTime=time.time() - start_time\n",
    "# model = KNeighborsClassifier(n_neighbors=5,algorithm='kd_tree').fit(X_train, Y_train)"
   ]
  },
  {
   "cell_type": "code",
   "execution_count": 31,
   "metadata": {},
   "outputs": [],
   "source": [
    "predic=knn_1.predict(xtest_tf)"
   ]
  },
  {
   "cell_type": "code",
   "execution_count": 32,
   "metadata": {},
   "outputs": [],
   "source": [
    "acc_TF=accuracy_score(Ytest,predic,normalize=True)"
   ]
  },
  {
   "cell_type": "code",
   "execution_count": 33,
   "metadata": {},
   "outputs": [
    {
     "name": "stdout",
     "output_type": "stream",
     "text": [
      "Test accuracy 79.61  for k= 29\n"
     ]
    }
   ],
   "source": [
    "print('Test accuracy',round(acc_TF*100,2),' for k=',optimal_k_1)"
   ]
  },
  {
   "cell_type": "markdown",
   "metadata": {},
   "source": [
    "# Avg. W2V"
   ]
  },
  {
   "cell_type": "code",
   "execution_count": 34,
   "metadata": {},
   "outputs": [],
   "source": [
    "from gensim.models import Word2Vec\n",
    "from gensim.models import KeyedVectors\n",
    "import pickle\n",
    "\n",
    "model = KeyedVectors.load_word2vec_format('GoogleNews-vectors-negative300.bin', binary=True)"
   ]
  },
  {
   "cell_type": "code",
   "execution_count": 35,
   "metadata": {},
   "outputs": [],
   "source": [
    "def list_of_sent(df):\n",
    "    i=0\n",
    "    list_sent=[]\n",
    "    for sent in df.values:\n",
    "        filtered_sentence=[]\n",
    "        for w in sent.split():\n",
    "            for cleaned_words in cleanpunc(w).split():\n",
    "                if(cleaned_words.isalpha()):    \n",
    "                    filtered_sentence.append(cleaned_words.lower())\n",
    "                else:\n",
    "                    continue \n",
    "        \n",
    "        list_sent.append(filtered_sentence)\n",
    "    \n",
    "    return list_sent"
   ]
  },
  {
   "cell_type": "code",
   "execution_count": 36,
   "metadata": {},
   "outputs": [],
   "source": [
    "W2VTraining_list = list_of_sent(X_train)\n",
    "W2VTest_list = list_of_sent(X_test)\n",
    "# W2VTraining_list\n",
    "list_all_words = list_of_sent(X['WoutStopWords'])"
   ]
  },
  {
   "cell_type": "code",
   "execution_count": 37,
   "metadata": {},
   "outputs": [
    {
     "name": "stdout",
     "output_type": "stream",
     "text": [
      "8505\n"
     ]
    }
   ],
   "source": [
    "w2v_model = Word2Vec(list_all_words,min_count=5,size=50, workers=4)\n",
    "words = list(w2v_model.wv.vocab)\n",
    "print(len(words))"
   ]
  },
  {
   "cell_type": "code",
   "execution_count": 38,
   "metadata": {},
   "outputs": [],
   "source": [
    "Traing_vectors = []# the avg-w2v for each sentence/review is stored in this list\n",
    "for sent in W2VTraining_list: # for each review/sentence\n",
    "    sent_vec = np.zeros(50) # as word vectors are of zero length\n",
    "    cnt_words =0 # num of words with a valid vector in the sentence/review\n",
    "    for word in sent: # for each word in a review/sentence\n",
    "        try:\n",
    "            vec = w2v_model.wv[word]\n",
    "            sent_vec += vec\n",
    "            cnt_words += 1\n",
    "        except:\n",
    "            pass\n",
    "    sent_vec /= cnt_words\n",
    "    Traing_vectors.append(sent_vec)\n",
    "    "
   ]
  },
  {
   "cell_type": "code",
   "execution_count": 39,
   "metadata": {},
   "outputs": [
    {
     "name": "stdout",
     "output_type": "stream",
     "text": [
      "Neighbour k =  1 ; time taken 72 seconds; Accuracy = 75.85\n",
      "Neighbour k =  3 ; time taken 77 seconds; Accuracy = 79.13\n",
      "Neighbour k =  5 ; time taken 78 seconds; Accuracy = 80.46\n",
      "Neighbour k =  7 ; time taken 80 seconds; Accuracy = 81.04\n",
      "Neighbour k =  9 ; time taken 81 seconds; Accuracy = 81.4\n",
      "Neighbour k =  11 ; time taken 81 seconds; Accuracy = 81.81\n",
      "Neighbour k =  13 ; time taken 83 seconds; Accuracy = 81.89\n",
      "Neighbour k =  15 ; time taken 82 seconds; Accuracy = 81.99\n",
      "Neighbour k =  17 ; time taken 83 seconds; Accuracy = 82.07\n",
      "Neighbour k =  19 ; time taken 87 seconds; Accuracy = 82.06\n",
      "Neighbour k =  21 ; time taken 83 seconds; Accuracy = 82.11\n",
      "Neighbour k =  23 ; time taken 83 seconds; Accuracy = 82.14\n",
      "Neighbour k =  25 ; time taken 84 seconds; Accuracy = 82.03\n",
      "Neighbour k =  27 ; time taken 84 seconds; Accuracy = 82.01\n",
      "Neighbour k =  29 ; time taken 84 seconds; Accuracy = 82.05\n",
      "Neighbour k =  31 ; time taken 85 seconds; Accuracy = 81.95\n",
      "Neighbour k =  33 ; time taken 84 seconds; Accuracy = 82.04\n",
      "Neighbour k =  35 ; time taken 85 seconds; Accuracy = 81.99\n",
      "Neighbour k =  37 ; time taken 85 seconds; Accuracy = 81.97\n",
      "Neighbour k =  39 ; time taken 85 seconds; Accuracy = 81.97\n",
      "Neighbour k =  41 ; time taken 85 seconds; Accuracy = 81.93\n",
      "Neighbour k =  43 ; time taken 85 seconds; Accuracy = 81.97\n",
      "Neighbour k =  45 ; time taken 85 seconds; Accuracy = 81.88\n",
      "Neighbour k =  47 ; time taken 85 seconds; Accuracy = 81.79\n",
      "Neighbour k =  49 ; time taken 86 seconds; Accuracy = 81.82\n"
     ]
    }
   ],
   "source": [
    "cv_scores_2 = []\n",
    "timelist_2=[] \n",
    "\n",
    "\n",
    "for k in range(1,50,2):\n",
    "    start_time = time.time()\n",
    "    knn_2 = KNeighborsClassifier(n_neighbors=k)\n",
    "    \n",
    "    scores = cross_val_score(knn_2, Traing_vectors, Ytrain, cv=10, scoring='accuracy')\n",
    "    t=time.time() - start_time\n",
    "    print(\"Neighbour k = \",k,\"; time taken\",int(time.time() - start_time),'seconds;','Accuracy =',round(scores.mean()*100,2))\n",
    "    t=time.time() - start_time\n",
    "    timelist_2.append(t)\n",
    "    \n",
    "    cv_scores_2.append(scores.mean())"
   ]
  },
  {
   "cell_type": "code",
   "execution_count": 40,
   "metadata": {
    "scrolled": true
   },
   "outputs": [
    {
     "name": "stdout",
     "output_type": "stream",
     "text": [
      "The optimal number of neighbors is 23\n"
     ]
    },
    {
     "data": {
      "image/png": "[encoded data removed]",
      "text/plain": [
       "<Figure size 432x288 with 1 Axes>"
      ]
     },
     "metadata": {},
     "output_type": "display_data"
    },
    {
     "name": "stdout",
     "output_type": "stream",
     "text": [
      "Training accuracy for K = 23 is 82.14\n"
     ]
    }
   ],
   "source": [
    "MSE_2 = [1 - x for x in cv_scores_2]\n",
    "neighbors_2 = list(range(1,50,2))\n",
    "# determining best k\n",
    "optimal_k_2 = neighbors[MSE_2.index(min(MSE_2))]\n",
    "print (\"The optimal number of neighbors is %d\" % optimal_k_2)\n",
    "\n",
    "# plot misclassification error vs k\n",
    "plt.plot(neighbors_2, MSE_2)\n",
    "plt.xlabel('Number of Neighbors K')\n",
    "plt.ylabel('Misclassification Error')\n",
    "plt.show()\n",
    "print (\"Training accuracy for K =\",optimal_k_2,'is',round(max(cv_scores_2)*100,2) )"
   ]
  },
  {
   "cell_type": "code",
   "execution_count": 41,
   "metadata": {},
   "outputs": [],
   "source": [
    "Test_vectors = []# the avg-w2v for each sentence/review is stored in this list\n",
    "for sent in W2VTest_list: # for each review/sentence\n",
    "    i=0\n",
    "    sent_vec = np.zeros(50) # as word vectors are of zero length\n",
    "    cnt_words =1 # num of words with a valid vector in the sentence/review\n",
    "    for word in sent: # for each word in a review/sentence\n",
    "        try:\n",
    "            vec = w2v_model.wv[word]\n",
    "            sent_vec += vec\n",
    "            cnt_words += 1\n",
    "        except:\n",
    "            pass\n",
    "#     i+=1\n",
    "    sent_vec /= cnt_words\n",
    "    \n",
    "#     print(i,'\\t',cnt_words)\n",
    "    Test_vectors.append(sent_vec)\n",
    "    "
   ]
  },
  {
   "cell_type": "code",
   "execution_count": 42,
   "metadata": {},
   "outputs": [],
   "source": [
    "knn_2 = KNeighborsClassifier(n_neighbors=optimal_k_2)\n",
    "start_time = time.time()\n",
    "knn_2.fit(Traing_vectors, Ytrain)\n",
    "traingTime=time.time() - start_time"
   ]
  },
  {
   "cell_type": "code",
   "execution_count": 43,
   "metadata": {},
   "outputs": [],
   "source": [
    "pred_avgw2v=knn_2.predict(Test_vectors)"
   ]
  },
  {
   "cell_type": "code",
   "execution_count": 44,
   "metadata": {},
   "outputs": [],
   "source": [
    "acc_avgw2v=accuracy_score(Ytest,pred_avgw2v,normalize=True)"
   ]
  },
  {
   "cell_type": "code",
   "execution_count": 45,
   "metadata": {},
   "outputs": [
    {
     "name": "stdout",
     "output_type": "stream",
     "text": [
      "Test accuracy 80.52  for k= 23\n"
     ]
    }
   ],
   "source": [
    "print('Test accuracy',round(acc_avgw2v*100,2),' for k=',optimal_k_2)"
   ]
  },
  {
   "cell_type": "markdown",
   "metadata": {},
   "source": [
    "# TFIDF-W2V"
   ]
  },
  {
   "cell_type": "code",
   "execution_count": 46,
   "metadata": {},
   "outputs": [],
   "source": [
    "tfidf_feat = tf_idf_vect.get_feature_names() \n",
    "# tfidf_feat = tf_idf_vect.get_feature_names() # tfidf words/col-names\n",
    "# final_tf_idf is the sparse matrix with row= sentence, col=word and cell_val = tfidf\n",
    "\n",
    "tfidf_train_vectors = []; # the tfidf-w2v for each sentence/review is stored in this list\n",
    "row=0;\n",
    "for sent in W2VTraining_list: # for each review/sentence\n",
    "    sent_vec = np.zeros(50) # as word vectors are of zero length\n",
    "    weight_sum =0; # num of words with a valid vector in the sentence/review\n",
    "    for word in sent: # for each word in a review/sentence\n",
    "        try:\n",
    "            vec = w2v_model.wv[word]\n",
    "#             print(vec)\n",
    "            # obtain the tf_idfidf of a word in a sentence/review\n",
    "            tfidf = Xtrain_tf_idf[row, tfidf_feat.index(word)]\n",
    "#             print(tfidf)\n",
    "            sent_vec += (vec * tfidf)\n",
    "#             print(sent_vec)\n",
    "        \n",
    "            weight_sum += tfidf\n",
    "#             print(weight_sum)\n",
    "        except:\n",
    "            pass\n",
    "    sent_vec /= weight_sum\n",
    "#     print(sent_vec)\n",
    "    tfidf_train_vectors.append(sent_vec)\n",
    "    row += 1\n",
    "    "
   ]
  },
  {
   "cell_type": "code",
   "execution_count": 47,
   "metadata": {},
   "outputs": [
    {
     "name": "stdout",
     "output_type": "stream",
     "text": [
      "Neighbour k =  1 ; time taken 59 seconds; Accuracy = 74.21\n",
      "Neighbour k =  3 ; time taken 64 seconds; Accuracy = 77.66\n",
      "Neighbour k =  5 ; time taken 67 seconds; Accuracy = 79.07\n",
      "Neighbour k =  7 ; time taken 68 seconds; Accuracy = 79.99\n",
      "Neighbour k =  9 ; time taken 69 seconds; Accuracy = 80.36\n",
      "Neighbour k =  11 ; time taken 70 seconds; Accuracy = 80.5\n",
      "Neighbour k =  13 ; time taken 71 seconds; Accuracy = 80.77\n",
      "Neighbour k =  15 ; time taken 71 seconds; Accuracy = 80.69\n",
      "Neighbour k =  17 ; time taken 72 seconds; Accuracy = 80.73\n",
      "Neighbour k =  19 ; time taken 73 seconds; Accuracy = 80.82\n",
      "Neighbour k =  21 ; time taken 73 seconds; Accuracy = 80.78\n",
      "Neighbour k =  23 ; time taken 73 seconds; Accuracy = 80.75\n",
      "Neighbour k =  25 ; time taken 74 seconds; Accuracy = 80.73\n",
      "Neighbour k =  27 ; time taken 74 seconds; Accuracy = 80.72\n",
      "Neighbour k =  29 ; time taken 75 seconds; Accuracy = 80.76\n",
      "Neighbour k =  31 ; time taken 75 seconds; Accuracy = 80.78\n",
      "Neighbour k =  33 ; time taken 75 seconds; Accuracy = 80.81\n",
      "Neighbour k =  35 ; time taken 75 seconds; Accuracy = 80.82\n",
      "Neighbour k =  37 ; time taken 76 seconds; Accuracy = 80.81\n",
      "Neighbour k =  39 ; time taken 76 seconds; Accuracy = 80.86\n",
      "Neighbour k =  41 ; time taken 76 seconds; Accuracy = 80.86\n",
      "Neighbour k =  43 ; time taken 77 seconds; Accuracy = 80.87\n",
      "Neighbour k =  45 ; time taken 77 seconds; Accuracy = 80.84\n",
      "Neighbour k =  47 ; time taken 77 seconds; Accuracy = 80.78\n",
      "Neighbour k =  49 ; time taken 77 seconds; Accuracy = 80.77\n"
     ]
    }
   ],
   "source": [
    "cv_scores_3 = []\n",
    "timelist_3=[] \n",
    "\n",
    "\n",
    "for k in range(1,50,2):\n",
    "    start_time = time.time()\n",
    "    knn_3 = KNeighborsClassifier(n_neighbors=k)\n",
    "    \n",
    "    scores = cross_val_score(knn_3, tfidf_train_vectors, Ytrain, cv=10, scoring='accuracy')\n",
    "    t=time.time() - start_time\n",
    "    print(\"Neighbour k = \",k,\"; time taken\",int(time.time() - start_time),'seconds;','Accuracy =',round(scores.mean()*100,2))\n",
    "    t=time.time() - start_time\n",
    "    timelist_3.append(t)\n",
    "    \n",
    "    cv_scores_3.append(scores.mean())\n",
    "    "
   ]
  },
  {
   "cell_type": "code",
   "execution_count": 48,
   "metadata": {},
   "outputs": [
    {
     "name": "stdout",
     "output_type": "stream",
     "text": [
      "The optimal number of neighbors is 43\n"
     ]
    },
    {
     "data": {
      "image/png": "[encoded data removed]",
      "text/plain": [
       "<Figure size 432x288 with 1 Axes>"
      ]
     },
     "metadata": {},
     "output_type": "display_data"
    },
    {
     "name": "stdout",
     "output_type": "stream",
     "text": [
      "Training accuracy for K = 43 is 80.87\n"
     ]
    }
   ],
   "source": [
    "MSE_3 = [1 - x for x in cv_scores_3]\n",
    "neighbors_3 = list(range(1,50,2))\n",
    "# determining best k\n",
    "optimal_k_3 = neighbors[MSE_3.index(min(MSE_3))]\n",
    "print (\"The optimal number of neighbors is %d\" % optimal_k_3)\n",
    "\n",
    "# plot misclassification error vs k\n",
    "plt.plot(neighbors_3, MSE_3)\n",
    "plt.xlabel('Number of Neighbors K')\n",
    "plt.ylabel('Misclassification Error')\n",
    "plt.show()\n",
    "print (\"Training accuracy for K =\",optimal_k_3,'is',round(max(cv_scores_3)*100,2) )"
   ]
  },
  {
   "cell_type": "code",
   "execution_count": 49,
   "metadata": {},
   "outputs": [],
   "source": [
    "tfidf_test_vectors = []; # the tfidf-w2v for each sentence/review is stored in this list\n",
    "row=0;\n",
    "for sent in W2VTest_list: # for each review/sentence\n",
    "    sent_vec = np.zeros(50) # as word vectors are of zero length\n",
    "    weight_sum =1; # num of words with a valid vector in the sentence/review\n",
    "    for word in sent: # for each word in a review/sentence\n",
    "        try:\n",
    "            vec = w2v_model.wv[word]\n",
    "#             print(vec)\n",
    "            # obtain the tf_idfidf of a word in a sentence/review\n",
    "            tfidf = Xtest_tf_idf[row, tfidf_feat.index(word)]\n",
    "#             print(tfidf)\n",
    "            sent_vec += (vec * tfidf)\n",
    "#             print(sent_vec)\n",
    "        \n",
    "            weight_sum += tfidf\n",
    "#             print(weight_sum)\n",
    "        except:\n",
    "            pass\n",
    "    sent_vec /= weight_sum\n",
    "#     print(sent_vec)\n",
    "    tfidf_test_vectors.append(sent_vec)\n",
    "    row += 1\n",
    "    "
   ]
  },
  {
   "cell_type": "code",
   "execution_count": 50,
   "metadata": {},
   "outputs": [],
   "source": [
    "knn_3 = KNeighborsClassifier(n_neighbors=optimal_k_3)\n",
    "start_time = time.time()\n",
    "knn_3.fit(tfidf_train_vectors, Ytrain)\n",
    "traingTime=time.time() - start_time"
   ]
  },
  {
   "cell_type": "code",
   "execution_count": 51,
   "metadata": {},
   "outputs": [],
   "source": [
    "pred_tfidw2v=knn_3.predict(tfidf_test_vectors)"
   ]
  },
  {
   "cell_type": "code",
   "execution_count": 52,
   "metadata": {},
   "outputs": [],
   "source": [
    "acc_tfidw2v=accuracy_score(Ytest,pred_tfidw2v,normalize=True)"
   ]
  },
  {
   "cell_type": "code",
   "execution_count": 53,
   "metadata": {},
   "outputs": [
    {
     "name": "stdout",
     "output_type": "stream",
     "text": [
      "Test accuracy 78.67  for k= 43\n"
     ]
    }
   ],
   "source": [
    "print('Test accuracy',round(acc_tfidw2v*100,2),' for k=',optimal_k_3)"
   ]
  },
  {
   "cell_type": "markdown",
   "metadata": {},
   "source": [
    "# __*RESULTS*__"
   ]
  },
  {
   "cell_type": "code",
   "execution_count": 54,
   "metadata": {},
   "outputs": [
    {
     "name": "stdout",
     "output_type": "stream",
     "text": [
      "Vectroziation method \t optimal K \t Training Accuracy \t Test Accuracy\n",
      "-------------------- \t ----------\t ----------------- \t -------------\n",
      " Bag of Words \t\t   13 \t\t\t 80.37 \t\t   78.7\n",
      " TFID         \t\t   29 \t\t\t 80.94 \t\t   79.61\n",
      " TFID W2V     \t\t   23 \t\t\t 82.14 \t\t   80.52\n",
      " Avg W2V      \t\t   43 \t\t\t 80.87 \t\t   78.67\n"
     ]
    }
   ],
   "source": [
    "print(\"Vectroziation method \\t optimal K \\t Training Accuracy \\t Test Accuracy\")\n",
    "print(\"-------------------- \\t ----------\\t ----------------- \\t -------------\")\n",
    "print(\" Bag of Words \\t\\t  \",optimal_k,'\\t\\t\\t',round(max(cv_scores)*100,2),'\\t\\t  ',round((acc_BoW)*100,2))\n",
    "print(\" TFID         \\t\\t  \",optimal_k_1,'\\t\\t\\t',round(max(cv_scores_1)*100,2),'\\t\\t  ',round((acc_TF)*100,2))\n",
    "print(\" TFID W2V     \\t\\t  \",optimal_k_2,'\\t\\t\\t',round(max(cv_scores_2)*100,2),'\\t\\t  ',round((acc_avgw2v)*100,2))\n",
    "print(\" Avg W2V      \\t\\t  \",optimal_k_3,'\\t\\t\\t',round(max(cv_scores_3)*100,2),'\\t\\t  ',round((acc_tfidw2v)*100,2))\n"
   ]
  },
  {
   "cell_type": "code",
   "execution_count": null,
   "metadata": {},
   "outputs": [],
   "source": []
  },
  {
   "cell_type": "code",
   "execution_count": null,
   "metadata": {},
   "outputs": [],
   "source": []
  }
 ],
 "metadata": {
  "kernelspec": {
   "display_name": "Python 3",
   "language": "python",
   "name": "python3"
  },
  "language_info": {
   "codemirror_mode": {
    "name": "ipython",
    "version": 3
   },
   "file_extension": ".py",
   "mimetype": "text/x-python",
   "name": "python",
   "nbconvert_exporter": "python",
   "pygments_lexer": "ipython3",
   "version": "3.5.4"
  }
 },
 "nbformat": 4,
 "nbformat_minor": 2
}
