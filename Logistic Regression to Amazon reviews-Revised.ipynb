{
 "cells": [
  {
   "cell_type": "markdown",
   "metadata": {},
   "source": [
    "# 5] Exercise: Apply Logistic regression to Amazon reviews data set. \n"
   ]
  },
  {
   "cell_type": "code",
   "execution_count": 1,
   "metadata": {},
   "outputs": [],
   "source": [
    "%matplotlib inline\n",
    "import pandas as pd\n",
    "import sqlite3\n",
    "import re\n",
    "import numpy as np\n",
    "import matplotlib.pyplot as plt\n",
    "import seaborn as sns\n",
    "from sklearn.feature_extraction.text import CountVectorizer\n",
    "from sklearn.feature_extraction.text import TfidfVectorizer\n",
    "from sklearn.linear_model import LogisticRegression\n",
    "from sklearn.model_selection import train_test_split\n",
    "from sklearn.dummy import DummyClassifier\n",
    "from string import punctuation\n",
    "from sklearn import svm\n",
    "from nltk.corpus import stopwords\n",
    "from nltk.stem import WordNetLemmatizer\n",
    "import nltk\n",
    "from nltk import ngrams\n",
    "from itertools import chain\n",
    "import warnings\n",
    "warnings.filterwarnings('ignore')"
   ]
  },
  {
   "cell_type": "code",
   "execution_count": 2,
   "metadata": {},
   "outputs": [],
   "source": [
    "con = sqlite3.connect('/home/rahul/Desktop/MLAAIC/database.sqlite')\n",
    "df = pd.read_sql_query(\"\"\"SELECT * FROM Reviews\"\"\",con)  "
   ]
  },
  {
   "cell_type": "markdown",
   "metadata": {},
   "source": [
    "## Data Preprocessing"
   ]
  },
  {
   "cell_type": "code",
   "execution_count": 3,
   "metadata": {},
   "outputs": [],
   "source": [
    "df = df.dropna()\n",
    "df['review'] = np.where(df['Score']>3, 'positive', 'negative')\n",
    "df_sample = df\n",
    "sorted_data=df_sample.sort_values('ProductId', axis=0, ascending=True, inplace=False, kind='quicksort', na_position='last')\n",
    "final=sorted_data.drop_duplicates(subset={\"UserId\",\"ProfileName\",\"Time\",\"Text\"}, keep='first', inplace=False)\n",
    "final=final[final.HelpfulnessNumerator<=final.HelpfulnessDenominator]"
   ]
  },
  {
   "cell_type": "code",
   "execution_count": 4,
   "metadata": {},
   "outputs": [
    {
     "name": "stdout",
     "output_type": "stream",
     "text": [
      "Final Data \n",
      "\n",
      "Total number of Datapoints - 393931 \n",
      "\n",
      "Total Number Features or Independent Variable - 10 \n",
      "\n",
      "The Positive review has label \"positive\" and \"307052\" datapoint \n",
      "\n",
      "The Negatve review has class label \"negative\" and \"86879\" datapoints\n"
     ]
    }
   ],
   "source": [
    "DataPoints, Features = final.shape\n",
    "l= final[\"review\"].unique()\n",
    "x,y= final[\"review\"].value_counts()\n",
    "print(\"Final Data \\n\")\n",
    "# print(len(l))\n",
    "print (\"Total number of Datapoints -\",DataPoints,'\\n\\n'\n",
    "      'Total Number Features or Independent Variable -',Features-1,'\\n')\n",
    "print('The Positive review has label \\\"{}\\\" and \\\"{}\\\" datapoint \\n'.format(l[0],x))\n",
    "print('The Negatve review has class label \\\"{}\\\" and \\\"{}\\\" datapoints'.format(l[1],y))"
   ]
  },
  {
   "cell_type": "markdown",
   "metadata": {},
   "source": [
    "### Text preprocessing"
   ]
  },
  {
   "cell_type": "code",
   "execution_count": 5,
   "metadata": {},
   "outputs": [],
   "source": [
    "import itertools\n",
    "\n",
    "def cleanhtml(sentence): #function to clean the word of any html-tags\n",
    "    cleanr = re.compile('<.*?>')\n",
    "    cleantext = re.sub(cleanr, ' ', sentence)\n",
    "    return cleantext.lower()\n",
    "final['CleanedText']=list(map(cleanhtml,final['Text']))\n"
   ]
  },
  {
   "cell_type": "code",
   "execution_count": 6,
   "metadata": {},
   "outputs": [],
   "source": [
    "#-----------------------\n",
    "# Suggestion -1.a \n",
    "# Not balncing data\n",
    "#-----------------------\n",
    "\n",
    "# positive_reviews = final[final.review=='positive']\n",
    "# negative_reviews = final[final.review=='negative']\n",
    "# # https://pandas.pydata.org/pandas-docs/version/0.17.0/generated/pandas.DataFrame.sample.html\n",
    "# negative_reviews = negative_reviews.sample(50000)\n",
    "# positive_reviews = positive_reviews.sample(50000)\n",
    "# # https://pandas.pydata.org/pandas-docs/stable/generated/pandas.concat.html\n",
    "# final_sample = pd.concat([positive_reviews, negative_reviews])\n"
   ]
  },
  {
   "cell_type": "code",
   "execution_count": 13,
   "metadata": {},
   "outputs": [],
   "source": [
    "# # # creating dataset by removing unwanted data\n",
    "# X_c = final[['Time','review','CleanedText']]\n",
    "# X_c = X_c.sort_values(['Time'],ascending=True)\n",
    "\n",
    "# #-----------------------\n",
    "# # Suggestion -1.b \n",
    "# # Take top 100k from sorted dataframe\n",
    "# #-----------------------\n",
    "# X_c =X_c[:100000]\n",
    "# X = X_c['CleanedText']\n",
    "# Y = X_c['review']\n"
   ]
  },
  {
   "cell_type": "code",
   "execution_count": 11,
   "metadata": {},
   "outputs": [],
   "source": [
    "# http://scikit-learn.org/stable/modules/generated/sklearn.preprocessing.LabelEncoder.html\n",
    "# encoding label data\n",
    "from sklearn import preprocessing\n",
    "le = preprocessing.LabelEncoder()\n",
    "Y = le.fit_transform(Y)"
   ]
  },
  {
   "cell_type": "code",
   "execution_count": 25,
   "metadata": {},
   "outputs": [],
   "source": [
    "#-----------------------\n",
    "# Suggestion - 2 \n",
    "# train_test split, maintain time. 60K-40K\n",
    "#-----------------------\n",
    "\n",
    "X_train = X[:60000] \n",
    "Y_train = Y[:60000]\n",
    "# len(Y_train)== len(X_train)\n",
    "X_test = X[60000:] \n",
    "Y_test = Y[60000:]\n",
    "# len(Y_test)== len(X_test)\n"
   ]
  },
  {
   "cell_type": "code",
   "execution_count": null,
   "metadata": {},
   "outputs": [],
   "source": []
  },
  {
   "cell_type": "markdown",
   "metadata": {},
   "source": [
    "# Grid Search"
   ]
  },
  {
   "cell_type": "code",
   "execution_count": 26,
   "metadata": {},
   "outputs": [],
   "source": [
    "#https://www.kaggle.com/laowingkin/amazon-fine-food-review-sentiment-analysis\n",
    "vectorizer = CountVectorizer(stop_words = 'english')\n",
    "BoW = vectorizer.fit_transform(X_train)"
   ]
  },
  {
   "cell_type": "code",
   "execution_count": 27,
   "metadata": {},
   "outputs": [],
   "source": [
    "tfidf = TfidfVectorizer(stop_words='english')\n",
    "tf_idf = tfidf.fit_transform(X_train)"
   ]
  },
  {
   "cell_type": "code",
   "execution_count": 33,
   "metadata": {},
   "outputs": [
    {
     "data": {
      "text/plain": [
       "GridSearchCV(cv=<generator object TimeSeriesSplit.split at 0x7fbae8b39eb8>,\n",
       "       error_score='raise',\n",
       "       estimator=LogisticRegression(C=1.0, class_weight=None, dual=False, fit_intercept=True,\n",
       "          intercept_scaling=1, max_iter=100, multi_class='ovr', n_jobs=1,\n",
       "          penalty='l2', random_state=None, solver='liblinear', tol=0.0001,\n",
       "          verbose=0, warm_start=False),\n",
       "       fit_params=None, iid=True, n_jobs=1,\n",
       "       param_grid=[{'C': [0.0001, 0.01, 1, 100, 10000], 'penalty': ['l1']}, {'C': [0.0001, 0.01, 1, 100, 10000], 'penalty': ['l2']}],\n",
       "       pre_dispatch='2*n_jobs', refit=True, return_train_score='warn',\n",
       "       scoring='f1', verbose=0)"
      ]
     },
     "execution_count": 33,
     "metadata": {},
     "output_type": "execute_result"
    }
   ],
   "source": [
    "#-----------------------\n",
    "# Suggestion - 3 \n",
    "# It is k-fold cross validation for time series data\n",
    "#ref- https://stackoverflow.com/questions/46732748/\n",
    "#     how-do-i-use-a-timeseriessplit-with-a-gridsearchcv-object-to-tune-a-model-in-sci\n",
    "#  \n",
    "#  seggestion -4\n",
    "#   Data leakeage problem solved by: (https://machinelearningmastery.com/data-leakage-machine-learning/)\n",
    "#   1.Tempmoral Cutoff- used Time based split\n",
    "#   2.Using hold out test X_test for final sanity check\n",
    "#   \n",
    "#-----------------------\n",
    "\n",
    "\n",
    "tuned_parameters = [{'penalty': ['l1'],'C': [10**-4, 10**-2, 10**0, 10**2, 10**4]},\n",
    "                    {'penalty': ['l2'], 'C': [10**-4, 10**-2, 10**0, 10**2, 10**4]}]\n",
    "\n",
    "\n",
    "from sklearn.model_selection import GridSearchCV,TimeSeriesSplit,validation_curve\n",
    "# from sklearn.linear_model import LogisticRegression\n",
    "\n",
    "# tscv = TimeSeriesSplit(n_splits=2)\n",
    "my_cv = TimeSeriesSplit(n_splits=2).split(BoW)\n",
    "my_cv2 = TimeSeriesSplit(n_splits=2).split(tf_idf)\n",
    "#BoW\n",
    "modelBoW = GridSearchCV(LogisticRegression(), tuned_parameters,scoring = 'f1', cv=my_cv)\n",
    "modelBoW.fit(BoW, Y_train)\n",
    "#TFiDF\n",
    "model_tf = GridSearchCV(LogisticRegression(), tuned_parameters,scoring = 'f1', cv=my_cv2)\n",
    "model_tf.fit(tf_idf, Y_train)\n"
   ]
  },
  {
   "cell_type": "markdown",
   "metadata": {},
   "source": [
    "#### Note after label encoding \"positive\" is \"class-1\" and \"negative\" is \"class0\""
   ]
  },
  {
   "cell_type": "code",
   "execution_count": 34,
   "metadata": {
    "scrolled": true
   },
   "outputs": [],
   "source": [
    "BoW_Grid = pd.DataFrame.from_dict(modelBoW.cv_results_)\n",
    "Tf_IDF_Grid = pd.DataFrame.from_dict(model_tf.cv_results_)"
   ]
  },
  {
   "cell_type": "markdown",
   "metadata": {},
   "source": [
    "# Random search"
   ]
  },
  {
   "cell_type": "code",
   "execution_count": 37,
   "metadata": {},
   "outputs": [
    {
     "ename": "NameError",
     "evalue": "name 'ytest' is not defined",
     "output_type": "error",
     "traceback": [
      "\u001b[0;31m---------------------------------------------------------------------------\u001b[0m",
      "\u001b[0;31mNameError\u001b[0m                                 Traceback (most recent call last)",
      "\u001b[0;32m<ipython-input-37-f2928dedf5a8>\u001b[0m in \u001b[0;36m<module>\u001b[0;34m()\u001b[0m\n\u001b[1;32m     20\u001b[0m \u001b[0;31m#TFiDF\u001b[0m\u001b[0;34m\u001b[0m\u001b[0;34m\u001b[0m\u001b[0m\n\u001b[1;32m     21\u001b[0m \u001b[0mmodel_tfr\u001b[0m \u001b[0;34m=\u001b[0m \u001b[0mRandomizedSearchCV\u001b[0m\u001b[0;34m(\u001b[0m\u001b[0mLogisticRegression\u001b[0m\u001b[0;34m(\u001b[0m\u001b[0;34m)\u001b[0m\u001b[0;34m,\u001b[0m  \u001b[0mhyperparameters\u001b[0m\u001b[0;34m,\u001b[0m\u001b[0mscoring\u001b[0m \u001b[0;34m=\u001b[0m \u001b[0;34m'f1'\u001b[0m\u001b[0;34m,\u001b[0m \u001b[0mcv\u001b[0m\u001b[0;34m=\u001b[0m\u001b[0mmy_cv2\u001b[0m\u001b[0;34m)\u001b[0m\u001b[0;34m\u001b[0m\u001b[0m\n\u001b[0;32m---> 22\u001b[0;31m \u001b[0mmodel_tfr\u001b[0m\u001b[0;34m.\u001b[0m\u001b[0mfit\u001b[0m\u001b[0;34m(\u001b[0m\u001b[0mtf_idf\u001b[0m\u001b[0;34m,\u001b[0m \u001b[0mytest\u001b[0m\u001b[0;34m)\u001b[0m\u001b[0;34m\u001b[0m\u001b[0m\n\u001b[0m",
      "\u001b[0;31mNameError\u001b[0m: name 'ytest' is not defined"
     ]
    }
   ],
   "source": [
    "from sklearn.model_selection import RandomizedSearchCV\n",
    "\n",
    "#https://chrisalbon.com/machine_learning/model_selection/hyperparameter_tuning_using_random_search/\n",
    "from scipy.stats import uniform\n",
    "# Create regularization penalty space\n",
    "penalty = ['l1', 'l2']\n",
    "\n",
    "# Create regularization hyperparameter distribution using uniform distribution\n",
    "C = uniform(loc=0, scale=4)\n",
    "\n",
    "# Create hyperparameter options\n",
    "hyperparameters = dict(C=C, penalty=penalty)\n",
    "my_cv = TimeSeriesSplit(n_splits=2).split(BoW)\n",
    "my_cv2 = TimeSeriesSplit(n_splits=2).split(tf_idf)\n",
    "\n",
    "#BoW\n",
    "modelBoWr=RandomizedSearchCV(LogisticRegression(),  hyperparameters,scoring = 'f1', cv=my_cv)\n",
    "modelBoWr.fit(BoW, Y_train)\n",
    "\n",
    "#TFiDF\n",
    "model_tfr = RandomizedSearchCV(LogisticRegression(),  hyperparameters,scoring = 'f1', cv=my_cv2)\n",
    "model_tfr.fit(tf_idf, ytest)"
   ]
  },
  {
   "cell_type": "code",
   "execution_count": 14,
   "metadata": {},
   "outputs": [],
   "source": [
    "BoW_Rcv = pd.DataFrame.from_dict(modelBoWr.cv_results_)\n",
    "Tf_IDF_Rcv = pd.DataFrame.from_dict(model_tfr.cv_results_)"
   ]
  },
  {
   "cell_type": "markdown",
   "metadata": {},
   "source": [
    "## L1 and L2 regularization"
   ]
  },
  {
   "cell_type": "code",
   "execution_count": 15,
   "metadata": {},
   "outputs": [],
   "source": [
    "from sklearn.metrics import accuracy_score\n",
    "#BoW -penalty l1\n",
    "\n",
    "clfBoW = LogisticRegression(penalty = 'l1')\n",
    "clfBoW.fit( X_train,y_train)\n",
    "predBoW=clfBoW.predict(X_test)\n",
    "Accuracy=round(accuracy_score(y_test,predBoW,normalize=True),4)\n",
    "\n",
    "#BoW -penalty l2\n",
    "\n",
    "clfBoW2 = LogisticRegression(penalty = 'l2')\n",
    "clfBoW2.fit( X_train,y_train)\n",
    "predBoW2=clfBoW2.predict(X_test)\n",
    "Accuracy2=round(accuracy_score(y_test,predBoW2,normalize=True),4)\n",
    "\n",
    "#Tf-IDF -penalty l1\n",
    "\n",
    "clftf = LogisticRegression(penalty = 'l1')\n",
    "clftf.fit( Xtrain,ytrain)\n",
    "predtf=clftf.predict(Xtest)\n",
    "Accuracy3=round(accuracy_score(ytest,predtf,normalize=True),4)\n",
    "\n",
    "#Tf-IDF -penalty l2\n",
    "\n",
    "clftf1 = LogisticRegression(penalty = 'l1')\n",
    "clftf1.fit( Xtrain,ytrain)\n",
    "predtf1=clftf1.predict(Xtest)\n",
    "Accuracy4=round(accuracy_score(ytest,predtf1,normalize=True),4)\n"
   ]
  },
  {
   "cell_type": "markdown",
   "metadata": {},
   "source": [
    "## labda vs Sparsity vs Error\n",
    "### http://scikit-learn.org/stable/auto_examples/linear_model/plot_logistic_l1_l2_sparsity.html#sphx-glr-auto-examples-linear-model-plot-logistic-l1-l2-sparsity-py"
   ]
  },
  {
   "cell_type": "code",
   "execution_count": 16,
   "metadata": {},
   "outputs": [],
   "source": [
    "C=[0.001,0.005,0.01,0.05,0.1,0.5,1,10,25,50,35,100]\n",
    "Score=[]#Error \n",
    "Sparse=[]#Sparsity\n",
    "\n",
    "\n",
    "for i in C:\n",
    "    clf = LogisticRegression(C=i, penalty='l1')\n",
    "    clf.fit(X_train, y_train)\n",
    "    pred=clf.predict(X_test)\n",
    "    accuracy=round(accuracy_score(y_test,pred,normalize=True),4)\n",
    "   \n",
    "    S=1-round(accuracy,5)\n",
    "    Score.append(S)\n",
    "    Sp =np.count_nonzero(clf.coef_)\n",
    "    Sparse.append(Sp)"
   ]
  },
  {
   "cell_type": "markdown",
   "metadata": {},
   "source": [
    "## Multi colinearity and feature importance"
   ]
  },
  {
   "cell_type": "code",
   "execution_count": 17,
   "metadata": {},
   "outputs": [
    {
     "name": "stdout",
     "output_type": "stream",
     "text": [
      "\n",
      "-Top 20 positive-\n",
      "Coefficient        Word\n",
      "  11.298174      hooked\n",
      "  10.647343      highly\n",
      "  10.441436       great\n",
      "  10.056896   delicious\n",
      "   9.904148        best\n",
      "   9.782654     perfect\n",
      "   9.207436   excellent\n",
      "   8.682665  pleasantly\n",
      "   7.985880   wonderful\n",
      "   7.697510     pleased\n",
      "   7.575350       loves\n",
      "   7.432821   skeptical\n",
      "   7.280186        glad\n",
      "   7.249619        love\n",
      "   7.246018     awesome\n",
      "   7.180631     amazing\n",
      "   6.913862       yummy\n",
      "   6.691701         yum\n",
      "   6.499431   fantastic\n",
      "   6.425793       thank\n",
      "\n",
      "-Top 20 negative-\n",
      "Coefficient            Word\n",
      "  -6.326188           bland\n",
      "  -6.401144          beware\n",
      "  -6.493830           threw\n",
      "  -6.526257          return\n",
      "  -6.757395       tasteless\n",
      "  -6.939167      disgusting\n",
      "  -6.984046        whopping\n",
      "  -7.219341        mediocre\n",
      "  -7.346168          hoping\n",
      "  -7.939053        horrible\n",
      "  -8.123101            okay\n",
      "  -8.194282              ok\n",
      "  -8.575561    disappointed\n",
      "  -8.777331           hopes\n",
      "  -9.002043           awful\n",
      "  -9.113355   unfortunately\n",
      "  -9.521912        terrible\n",
      " -10.917644  disappointment\n",
      " -12.963371   disappointing\n",
      " -13.562268           worst\n"
     ]
    }
   ],
   "source": [
    "w = tfidf.get_feature_names()\n",
    "coef = clftf.coef_.tolist()[0]\n",
    "coeff_df = pd.DataFrame({'Word' : w, 'Coefficient' : coef})\n",
    "coeff_df = coeff_df.sort_values(['Coefficient', 'Word'], ascending=[0, 1])\n",
    "print('')\n",
    "print('-Top 20 positive-')\n",
    "print(coeff_df.head(20).to_string(index=False))\n",
    "print('')\n",
    "print('-Top 20 negative-')        \n",
    "print(coeff_df.tail(20).to_string(index=False))"
   ]
  },
  {
   "cell_type": "markdown",
   "metadata": {},
   "source": [
    "## Results"
   ]
  },
  {
   "cell_type": "code",
   "execution_count": 32,
   "metadata": {},
   "outputs": [
    {
     "name": "stdout",
     "output_type": "stream",
     "text": [
      "Table 1 - Optimal Value of Lambda, Train error and test error\n",
      "~~~~~~~~~~~~~~~~~~~~~~~~~~~~~~~~~~~~~~~~~~~~~~~~~~~~~~~~~~~~~~\n",
      "+-------+------------------------+---------+----------------+\n",
      "| Model | Model Selection Method | penalty | Optimal lambda |\n",
      "+-------+------------------------+---------+----------------+\n",
      "|  BoW  |       GridSearch       |    l2   |       1        |\n",
      "+-------+------------------------+---------+----------------+\n"
     ]
    }
   ],
   "source": [
    "from prettytable import PrettyTable\n",
    "x = PrettyTable()\n",
    "x.field_names = [\"Model\", \"Model Selection Method\",\"penalty\", \"Optimal lambda\"]\n",
    "\n",
    "x.add_row([\"BoW\", \"GridSearch\", modelBoW.best_estimator_.get_params()['penalty'],\n",
    "           modelBoW.best_estimator_.get_params()['C']],)\n",
    "# x.add_row([\"TF-IDF\", \"GridSearch\", model_tf.best_estimator_.get_params()['penalty'],\n",
    "#            model_tf.best_estimator_.get_params()['C']])\n",
    "# x.add_row([\"BoW\", \"Rondomized CV\", modelBoWr.best_estimator_.get_params()['penalty'],\n",
    "#           round(modelBoWr.best_estimator_.get_params()['C'],4)])\n",
    "# x.add_row([\"TF-IDF\", \"Rondomized CV\", model_tfr.best_estimator_.get_params()['penalty'],\n",
    "#           round(model_tfr.best_estimator_.get_params()['C'],4)])\n",
    "\n",
    "print('Table 1 - Optimal Value of Lambda, Train error and test error')\n",
    "print('~~~~~~~~~~~~~~~~~~~~~~~~~~~~~~~~~~~~~~~~~~~~~~~~~~~~~~~~~~~~~~')\n",
    "\n",
    "# print(x.get_string(title=\"Australian cities\"))\n",
    "print(x)\n"
   ]
  },
  {
   "cell_type": "code",
   "execution_count": 31,
   "metadata": {
    "scrolled": true
   },
   "outputs": [
    {
     "ename": "NameError",
     "evalue": "name 'Accuracy' is not defined",
     "output_type": "error",
     "traceback": [
      "\u001b[0;31m---------------------------------------------------------------------------\u001b[0m",
      "\u001b[0;31mNameError\u001b[0m                                 Traceback (most recent call last)",
      "\u001b[0;32m<ipython-input-31-54becad9a681>\u001b[0m in \u001b[0;36m<module>\u001b[0;34m()\u001b[0m\n\u001b[1;32m      2\u001b[0m \u001b[0my\u001b[0m\u001b[0;34m.\u001b[0m\u001b[0mfield_names\u001b[0m \u001b[0;34m=\u001b[0m \u001b[0;34m[\u001b[0m\u001b[0;34m\"Model\"\u001b[0m\u001b[0;34m,\u001b[0m\u001b[0;34m\"penalty\"\u001b[0m\u001b[0;34m,\u001b[0m \u001b[0;34m\"Acuuracy\"\u001b[0m\u001b[0;34m]\u001b[0m\u001b[0;34m\u001b[0m\u001b[0m\n\u001b[1;32m      3\u001b[0m \u001b[0;34m\u001b[0m\u001b[0m\n\u001b[0;32m----> 4\u001b[0;31m \u001b[0my\u001b[0m\u001b[0;34m.\u001b[0m\u001b[0madd_row\u001b[0m\u001b[0;34m(\u001b[0m\u001b[0;34m[\u001b[0m\u001b[0;34m\"BoW\"\u001b[0m\u001b[0;34m,\u001b[0m \u001b[0;34m\"L1\"\u001b[0m\u001b[0;34m,\u001b[0m\u001b[0mround\u001b[0m\u001b[0;34m(\u001b[0m\u001b[0mAccuracy\u001b[0m\u001b[0;34m*\u001b[0m\u001b[0;36m100\u001b[0m\u001b[0;34m,\u001b[0m\u001b[0;36m2\u001b[0m\u001b[0;34m)\u001b[0m\u001b[0;34m]\u001b[0m\u001b[0;34m)\u001b[0m\u001b[0;34m\u001b[0m\u001b[0m\n\u001b[0m\u001b[1;32m      5\u001b[0m \u001b[0;31m# y.add_row([\"BoW\", \"L2\",round(Accuracy2*100,2)])\u001b[0m\u001b[0;34m\u001b[0m\u001b[0;34m\u001b[0m\u001b[0m\n\u001b[1;32m      6\u001b[0m \u001b[0;31m# y.add_row([\"TfIDf\", \"L1\",round(Accuracy3*100,2)])\u001b[0m\u001b[0;34m\u001b[0m\u001b[0;34m\u001b[0m\u001b[0m\n",
      "\u001b[0;31mNameError\u001b[0m: name 'Accuracy' is not defined"
     ]
    }
   ],
   "source": [
    "y = PrettyTable()\n",
    "y.field_names = [\"Model\",\"penalty\", \"Acuuracy\"]\n",
    "\n",
    "y.add_row([\"BoW\", \"L1\",round(Accuracy*100,2)])\n",
    "# y.add_row([\"BoW\", \"L2\",round(Accuracy2*100,2)])\n",
    "# y.add_row([\"TfIDf\", \"L1\",round(Accuracy3*100,2)])\n",
    "# y.add_row([\"TfIDF\", \"L2\",round(Accuracy4*100,2)])\n",
    "\n",
    "\n",
    "print('Table 2 - L1 and L2 regularization')\n",
    "print('~~~~~~~~~~~~~~~~~~~~~~~~~~~~~~~~~~')\n",
    "\n",
    "# print(x.get_string(title=\"Australian cities\"))\n",
    "print(y)"
   ]
  },
  {
   "cell_type": "code",
   "execution_count": 20,
   "metadata": {},
   "outputs": [
    {
     "data": {
      "image/png": "[encoded data removed]",
      "text/plain": [
       "<Figure size 432x288 with 1 Axes>"
      ]
     },
     "metadata": {},
     "output_type": "display_data"
    }
   ],
   "source": [
    "#https://stackoverflow.com/questions/22276066/how-to-plot-multiple-functions-on-the-same-figure-in-matplotlib\n",
    "from sklearn import preprocessing\n",
    "# [0.001,0.005,0.01,0.05,0.1,0.5,1]\n",
    "#scaling to plot them\n",
    "Sparse =np.array(Sparse)\n",
    "Sparse.reshape(1,-1)\n",
    "Score = np.array(Score)\n",
    "Score.reshape(1,-1)\n",
    "\n",
    "Sparse_normalized = (Sparse-min(Sparse))/(max(Sparse)-min(Sparse))\n",
    "Score_normalized = (Score-min(Score))/(max(Score)-min(Score))\n",
    "\n",
    "C=np.array(C)\n",
    "lambd=1/C\n",
    "#https://matplotlib.org/users/legend_guide.html\n",
    "plt.loglog(lambd, Sparse_normalized, label='Sparse') # plotting t, a separately \n",
    "plt.loglog(lambd, Score_normalized, label='Error') # plotting t, b separately \n",
    "plt.xlabel('Lambda')\n",
    "plt.ylabel('Normalized log Scale')\n",
    "plt.title('Realtion between Lambda,  Error and Sparsity')\n",
    "plt.legend(bbox_to_anchor=(1.05, 1), loc=2, borderaxespad=0.)\n",
    "plt.show()"
   ]
  }
 ],
 "metadata": {
  "kernelspec": {
   "display_name": "Python 3",
   "language": "python",
   "name": "python3"
  },
  "language_info": {
   "codemirror_mode": {
    "name": "ipython",
    "version": 3
   },
   "file_extension": ".py",
   "mimetype": "text/x-python",
   "name": "python",
   "nbconvert_exporter": "python",
   "pygments_lexer": "ipython3",
   "version": "3.5.4"
  }
 },
 "nbformat": 4,
 "nbformat_minor": 2
}
