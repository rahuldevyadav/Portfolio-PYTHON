{
 "cells": [
  {
   "cell_type": "markdown",
   "metadata": {},
   "source": [
    "# _Assigment - 4_\n",
    "## Apply Naive Bayes to Amazon reviews \n",
    "##### Note: Used 160K review 80K positive and 80K negative\n",
    "\n",
    "### Revised "
   ]
  },
  {
   "cell_type": "code",
   "execution_count": 1,
   "metadata": {},
   "outputs": [],
   "source": [
    "%matplotlib inline\n",
    "import numpy as np\n",
    "import pandas as pd\n",
    "\n",
    "import matplotlib.pyplot as plt\n",
    "import seaborn as sn\n",
    "\n",
    "from sklearn.naive_bayes import MultinomialNB \n",
    "from sklearn.metrics import accuracy_score\n",
    "# from sklearn import cross_validation\n",
    "from sklearn.model_selection import cross_val_score\n",
    "#from sklearn.metrics import classification_report\n",
    "from sklearn.metrics import confusion_matrix\n",
    "from sklearn.metrics import f1_score,precision_score,recall_score\n",
    "\n",
    "import warnings\n",
    "warnings.filterwarnings('ignore')"
   ]
  },
  {
   "cell_type": "code",
   "execution_count": 2,
   "metadata": {},
   "outputs": [],
   "source": [
    "df=pd.read_pickle('./Amazon_80000.pkl')\n",
    "#sorting values TBS\n",
    "df = df.sort_values(['Time'],ascending=True)"
   ]
  },
  {
   "cell_type": "code",
   "execution_count": 3,
   "metadata": {},
   "outputs": [],
   "source": [
    "#Creating Train and test data (80-20 split, Since i ahve small dataset i need more data for taining\n",
    "#                               therefore converted in 80-20 split instead of 70-30)\n",
    "## 80% of sorted data will = Total number of rows (sorted) *0.8\n",
    "X_train = df.iloc[:int(len(df)*.8),1] \n",
    "Y_train = df.iloc[:int(len(df)*.8),-1]\n",
    "# len(Y_train)== len(X_train)\n",
    "X_test = df.iloc[int(len(df)*.8)+1:,1] \n",
    "Y_test = df.iloc[int(len(df)*.8)+1:,-1]\n",
    "# len(Y_test)== len(X_test)"
   ]
  },
  {
   "cell_type": "code",
   "execution_count": 4,
   "metadata": {},
   "outputs": [],
   "source": [
    "# Label encoding\n",
    "from sklearn import preprocessing\n",
    "le = preprocessing.LabelEncoder()\n",
    "Ytrain = le.fit_transform(Y_train)\n",
    "Ytest = le.transform(Y_test)"
   ]
  },
  {
   "cell_type": "markdown",
   "metadata": {},
   "source": [
    "# BoW"
   ]
  },
  {
   "cell_type": "code",
   "execution_count": 5,
   "metadata": {},
   "outputs": [],
   "source": [
    "# #BoW without bigram\n",
    "from sklearn.feature_extraction.text import CountVectorizer\n",
    "vectorizer = CountVectorizer()\n",
    "Xtrain1 = vectorizer.fit_transform(X_train.values)\n",
    "Xtest1 = vectorizer.transform(X_test.values)\n",
    "# Xtest.shape"
   ]
  },
  {
   "cell_type": "code",
   "execution_count": 6,
   "metadata": {},
   "outputs": [],
   "source": [
    "score_1 = [] \n",
    "alpha = np.arange(0.001,10,0.1)\n",
    "# alpha.shape\n",
    "for Alpha in alpha:\n",
    "    clf=MultinomialNB(alpha=Alpha)\n",
    "    scores = cross_val_score(clf, Xtrain1, Ytrain, cv=10, scoring='accuracy')    \n",
    "#     print('Aplha =',round(Alpha,5),'\\t\\t\\tScore =',round(scores.mean(),5))\n",
    "    \n",
    "    score_1.append(scores.mean())"
   ]
  },
  {
   "cell_type": "code",
   "execution_count": 7,
   "metadata": {},
   "outputs": [],
   "source": [
    "# changing to misclassification error\n",
    "MSE_1 = [1 - x for x in score_1]\n",
    "Training_Error1=round(1-max(score_1),4)\n",
    "alpha_BoW = round(alpha[MSE_1.index(min(MSE_1))],3)"
   ]
  },
  {
   "cell_type": "code",
   "execution_count": 8,
   "metadata": {},
   "outputs": [],
   "source": [
    "clf1=MultinomialNB(alpha=alpha_BoW)\n",
    "clf1.fit( Xtrain1, Ytrain)\n",
    "pred_BoW=clf1.predict(Xtest1)\n",
    "Accuracy1=round(accuracy_score(Ytest,pred_BoW,normalize=True),4)\n",
    "testError1 = 1-Accuracy1"
   ]
  },
  {
   "cell_type": "code",
   "execution_count": 9,
   "metadata": {},
   "outputs": [],
   "source": [
    "#confusion matrix\n",
    "cm1=confusion_matrix(Ytest, pred_BoW)\n",
    "p1=precision_score(Ytest, pred_BoW, average=None)\n",
    "r1=recall_score(Ytest, pred_BoW, average=None)\n",
    "\n",
    "f1_1= (f1_score(Ytest, pred_BoW, average=None))\n",
    "df_cm1 = pd.DataFrame(cm1,columns=[le.inverse_transform(0),le.inverse_transform(1)]\n",
    "                      ,index=[le.inverse_transform(0),le.inverse_transform(1)])"
   ]
  },
  {
   "cell_type": "code",
   "execution_count": 10,
   "metadata": {},
   "outputs": [
    {
     "name": "stdout",
     "output_type": "stream",
     "text": [
      "Feature importance - BoW\n"
     ]
    },
    {
     "data": {
      "text/html": [
       "<div>\n",
       "<style scoped>\n",
       "    .dataframe tbody tr th:only-of-type {\n",
       "        vertical-align: middle;\n",
       "    }\n",
       "\n",
       "    .dataframe tbody tr th {\n",
       "        vertical-align: top;\n",
       "    }\n",
       "\n",
       "    .dataframe thead th {\n",
       "        text-align: right;\n",
       "    }\n",
       "</style>\n",
       "<table border=\"1\" class=\"dataframe\">\n",
       "  <thead>\n",
       "    <tr style=\"text-align: right;\">\n",
       "      <th></th>\n",
       "      <th>BoW_Words_Pos</th>\n",
       "      <th>BoW_Prob</th>\n",
       "      <th>BoW_Words_neg</th>\n",
       "      <th>BoW_Prob</th>\n",
       "    </tr>\n",
       "  </thead>\n",
       "  <tbody>\n",
       "    <tr>\n",
       "      <th>0</th>\n",
       "      <td>like</td>\n",
       "      <td>-4.532175</td>\n",
       "      <td>tast</td>\n",
       "      <td>-4.384049</td>\n",
       "    </tr>\n",
       "    <tr>\n",
       "      <th>1</th>\n",
       "      <td>tast</td>\n",
       "      <td>-4.656209</td>\n",
       "      <td>like</td>\n",
       "      <td>-4.419855</td>\n",
       "    </tr>\n",
       "    <tr>\n",
       "      <th>2</th>\n",
       "      <td>flavor</td>\n",
       "      <td>-4.747460</td>\n",
       "      <td>product</td>\n",
       "      <td>-4.641339</td>\n",
       "    </tr>\n",
       "    <tr>\n",
       "      <th>3</th>\n",
       "      <td>love</td>\n",
       "      <td>-4.752727</td>\n",
       "      <td>one</td>\n",
       "      <td>-4.869682</td>\n",
       "    </tr>\n",
       "    <tr>\n",
       "      <th>4</th>\n",
       "      <td>good</td>\n",
       "      <td>-4.785821</td>\n",
       "      <td>flavor</td>\n",
       "      <td>-4.884697</td>\n",
       "    </tr>\n",
       "    <tr>\n",
       "      <th>5</th>\n",
       "      <td>great</td>\n",
       "      <td>-4.847428</td>\n",
       "      <td>would</td>\n",
       "      <td>-4.997784</td>\n",
       "    </tr>\n",
       "    <tr>\n",
       "      <th>6</th>\n",
       "      <td>one</td>\n",
       "      <td>-4.879224</td>\n",
       "      <td>food</td>\n",
       "      <td>-4.999080</td>\n",
       "    </tr>\n",
       "    <tr>\n",
       "      <th>7</th>\n",
       "      <td>use</td>\n",
       "      <td>-4.961709</td>\n",
       "      <td>tri</td>\n",
       "      <td>-5.009562</td>\n",
       "    </tr>\n",
       "    <tr>\n",
       "      <th>8</th>\n",
       "      <td>coffe</td>\n",
       "      <td>-5.004245</td>\n",
       "      <td>coffe</td>\n",
       "      <td>-5.144018</td>\n",
       "    </tr>\n",
       "    <tr>\n",
       "      <th>9</th>\n",
       "      <td>tea</td>\n",
       "      <td>-5.015235</td>\n",
       "      <td>good</td>\n",
       "      <td>-5.190227</td>\n",
       "    </tr>\n",
       "  </tbody>\n",
       "</table>\n",
       "</div>"
      ],
      "text/plain": [
       "  BoW_Words_Pos  BoW_Prob BoW_Words_neg  BoW_Prob\n",
       "0          like -4.532175          tast -4.384049\n",
       "1          tast -4.656209          like -4.419855\n",
       "2        flavor -4.747460       product -4.641339\n",
       "3          love -4.752727           one -4.869682\n",
       "4          good -4.785821        flavor -4.884697\n",
       "5         great -4.847428         would -4.997784\n",
       "6           one -4.879224          food -4.999080\n",
       "7           use -4.961709           tri -5.009562\n",
       "8         coffe -5.004245         coffe -5.144018\n",
       "9           tea -5.015235          good -5.190227"
      ]
     },
     "execution_count": 10,
     "metadata": {},
     "output_type": "execute_result"
    }
   ],
   "source": [
    "#BoW Feature importance\n",
    "features = vectorizer.get_feature_names()\n",
    "feature_count = clf1.feature_count_\n",
    "class_count = clf1.class_count_\n",
    "pos_points_prob_sort = clf1.feature_log_prob_[1, :].argsort()\n",
    "neg_points_prob_sort = clf1.feature_log_prob_[0, :].argsort()\n",
    "log_prob = clf1.feature_log_prob_\n",
    "feature_prob= pd.DataFrame(log_prob, columns=features).T\n",
    "feature_prob.columns = [le.inverse_transform(0),le.inverse_transform(1)]\n",
    "top_positive_BoW = feature_prob['positive'].sort_values(ascending=False)[:10]\n",
    "top_negative_BoW = feature_prob['negative'].sort_values(ascending=False)[:10]\n",
    "\n",
    "positive_BoW=  pd.Series.to_frame(top_positive_BoW)\n",
    "positive_BoW.reset_index(level=0, inplace=True)\n",
    "positive_BoW.columns = ['BoW_Words_Pos','BoW_Prob']\n",
    "\n",
    "negative_BoW=  pd.Series.to_frame(top_negative_BoW)\n",
    "negative_BoW.reset_index(level=0, inplace=True)\n",
    "negative_BoW.columns = ['BoW_Words_neg','BoW_Prob']\n",
    "BoW_FI= pd.concat([positive_BoW,negative_BoW], axis=1)\n",
    "print('Feature importance - BoW')\n",
    "BoW_FI"
   ]
  },
  {
   "cell_type": "markdown",
   "metadata": {},
   "source": [
    "# Tf-IDF"
   ]
  },
  {
   "cell_type": "code",
   "execution_count": 11,
   "metadata": {},
   "outputs": [],
   "source": [
    "from sklearn.feature_extraction.text import TfidfVectorizer\n",
    "tf_idf_vect = TfidfVectorizer()\n",
    "Xtrain_tf_idf = tf_idf_vect.fit_transform(X_train.values)\n",
    "Xtest_tf_idf = tf_idf_vect.transform(X_test.values)"
   ]
  },
  {
   "cell_type": "code",
   "execution_count": 12,
   "metadata": {},
   "outputs": [],
   "source": [
    "score_2 = [] \n",
    "for Alpha in alpha:\n",
    "    clf=MultinomialNB(alpha=Alpha)\n",
    "    scores = cross_val_score(clf, Xtrain_tf_idf, Ytrain, cv=10, scoring='accuracy')    \n",
    "#     print('Aplha =',round(Alpha,5),'\\t\\t\\tScore =',round(scores.mean(),5))\n",
    "    score_2.append(scores.mean())"
   ]
  },
  {
   "cell_type": "code",
   "execution_count": 13,
   "metadata": {},
   "outputs": [],
   "source": [
    "# changing to misclassification error\n",
    "MSE_2 = [1 - x for x in score_2]\n",
    "Training_Error2=round(1-max(score_2),4)\n",
    "alpha_tfidf = round(alpha[MSE_2.index(min(MSE_2))],3)"
   ]
  },
  {
   "cell_type": "code",
   "execution_count": 14,
   "metadata": {},
   "outputs": [],
   "source": [
    "clf2=MultinomialNB(alpha=alpha_tfidf)\n",
    "clf2.fit( Xtrain_tf_idf, Ytrain)\n",
    "pred_tfidf=clf2.predict(Xtest_tf_idf)\n",
    "Accuracy2=round(accuracy_score(Ytest,pred_tfidf,normalize=True),4)\n",
    "testError2 = 1-Accuracy2"
   ]
  },
  {
   "cell_type": "code",
   "execution_count": 15,
   "metadata": {},
   "outputs": [],
   "source": [
    "#confusion matrix\n",
    "cm2=confusion_matrix(Ytest, pred_tfidf)\n",
    "p2=precision_score(Ytest, pred_tfidf, average=None)\n",
    "r2=recall_score(Ytest, pred_tfidf, average=None)\n",
    "\n",
    "f1_2= (f1_score(Ytest, pred_tfidf, average=None))\n",
    "df_cm2 = pd.DataFrame(cm2,columns=[le.inverse_transform(0),le.inverse_transform(1)]\n",
    "                      ,index=[le.inverse_transform(0),le.inverse_transform(1)])"
   ]
  },
  {
   "cell_type": "code",
   "execution_count": 16,
   "metadata": {
    "scrolled": true
   },
   "outputs": [
    {
     "name": "stdout",
     "output_type": "stream",
     "text": [
      "Feature importance - TF-IDF\n"
     ]
    },
    {
     "data": {
      "text/html": [
       "<div>\n",
       "<style scoped>\n",
       "    .dataframe tbody tr th:only-of-type {\n",
       "        vertical-align: middle;\n",
       "    }\n",
       "\n",
       "    .dataframe tbody tr th {\n",
       "        vertical-align: top;\n",
       "    }\n",
       "\n",
       "    .dataframe thead th {\n",
       "        text-align: right;\n",
       "    }\n",
       "</style>\n",
       "<table border=\"1\" class=\"dataframe\">\n",
       "  <thead>\n",
       "    <tr style=\"text-align: right;\">\n",
       "      <th></th>\n",
       "      <th>Tf-IDF_Words_Pos</th>\n",
       "      <th>Tf-IDF_Prob</th>\n",
       "      <th>TFIDF_Words_neg</th>\n",
       "      <th>TFIDF_Prob</th>\n",
       "    </tr>\n",
       "  </thead>\n",
       "  <tbody>\n",
       "    <tr>\n",
       "      <th>0</th>\n",
       "      <td>love</td>\n",
       "      <td>-5.733461</td>\n",
       "      <td>tast</td>\n",
       "      <td>-5.632706</td>\n",
       "    </tr>\n",
       "    <tr>\n",
       "      <th>1</th>\n",
       "      <td>great</td>\n",
       "      <td>-5.741828</td>\n",
       "      <td>like</td>\n",
       "      <td>-5.760929</td>\n",
       "    </tr>\n",
       "    <tr>\n",
       "      <th>2</th>\n",
       "      <td>good</td>\n",
       "      <td>-5.896232</td>\n",
       "      <td>product</td>\n",
       "      <td>-5.868762</td>\n",
       "    </tr>\n",
       "    <tr>\n",
       "      <th>3</th>\n",
       "      <td>coffe</td>\n",
       "      <td>-5.900960</td>\n",
       "      <td>coffe</td>\n",
       "      <td>-6.044130</td>\n",
       "    </tr>\n",
       "    <tr>\n",
       "      <th>4</th>\n",
       "      <td>tea</td>\n",
       "      <td>-5.931254</td>\n",
       "      <td>flavor</td>\n",
       "      <td>-6.055919</td>\n",
       "    </tr>\n",
       "    <tr>\n",
       "      <th>5</th>\n",
       "      <td>flavor</td>\n",
       "      <td>-5.940843</td>\n",
       "      <td>one</td>\n",
       "      <td>-6.158917</td>\n",
       "    </tr>\n",
       "    <tr>\n",
       "      <th>6</th>\n",
       "      <td>like</td>\n",
       "      <td>-5.942255</td>\n",
       "      <td>would</td>\n",
       "      <td>-6.159458</td>\n",
       "    </tr>\n",
       "    <tr>\n",
       "      <th>7</th>\n",
       "      <td>tast</td>\n",
       "      <td>-5.974403</td>\n",
       "      <td>tri</td>\n",
       "      <td>-6.237772</td>\n",
       "    </tr>\n",
       "    <tr>\n",
       "      <th>8</th>\n",
       "      <td>one</td>\n",
       "      <td>-6.172052</td>\n",
       "      <td>buy</td>\n",
       "      <td>-6.289646</td>\n",
       "    </tr>\n",
       "    <tr>\n",
       "      <th>9</th>\n",
       "      <td>use</td>\n",
       "      <td>-6.176107</td>\n",
       "      <td>tea</td>\n",
       "      <td>-6.292970</td>\n",
       "    </tr>\n",
       "  </tbody>\n",
       "</table>\n",
       "</div>"
      ],
      "text/plain": [
       "  Tf-IDF_Words_Pos  Tf-IDF_Prob TFIDF_Words_neg  TFIDF_Prob\n",
       "0             love    -5.733461            tast   -5.632706\n",
       "1            great    -5.741828            like   -5.760929\n",
       "2             good    -5.896232         product   -5.868762\n",
       "3            coffe    -5.900960           coffe   -6.044130\n",
       "4              tea    -5.931254          flavor   -6.055919\n",
       "5           flavor    -5.940843             one   -6.158917\n",
       "6             like    -5.942255           would   -6.159458\n",
       "7             tast    -5.974403             tri   -6.237772\n",
       "8              one    -6.172052             buy   -6.289646\n",
       "9              use    -6.176107             tea   -6.292970"
      ]
     },
     "execution_count": 16,
     "metadata": {},
     "output_type": "execute_result"
    }
   ],
   "source": [
    "#BoW Feature importance\n",
    "features = tf_idf_vect.get_feature_names()\n",
    "feature_count = clf2.feature_count_\n",
    "class_count = clf2.class_count_\n",
    "pos_points_prob_sort = clf2.feature_log_prob_[1, :].argsort()\n",
    "neg_points_prob_sort = clf2.feature_log_prob_[0, :].argsort()\n",
    "log_prob = clf2.feature_log_prob_\n",
    "feature_prob= pd.DataFrame(log_prob, columns=features).T\n",
    "feature_prob.columns = [le.inverse_transform(0),le.inverse_transform(1)]\n",
    "top_positive_tfidf = feature_prob['positive'].sort_values(ascending=False)[:10]\n",
    "top_negative_tfidf = feature_prob['negative'].sort_values(ascending=False)[:10]\n",
    "\n",
    "positive=  pd.Series.to_frame(top_positive_tfidf)\n",
    "positive.reset_index(level=0, inplace=True)\n",
    "positive.columns = ['Tf-IDF_Words_Pos','Tf-IDF_Prob']\n",
    "\n",
    "negative=  pd.Series.to_frame(top_negative_tfidf)\n",
    "negative.reset_index(level=0, inplace=True)\n",
    "negative.columns = ['TFIDF_Words_neg','TFIDF_Prob']\n",
    "TfIDF_FI= pd.concat([positive,negative], axis=1)\n",
    "print('Feature importance - TF-IDF')\n",
    "TfIDF_FI"
   ]
  },
  {
   "cell_type": "markdown",
   "metadata": {},
   "source": [
    "# Conclusion Results "
   ]
  },
  {
   "cell_type": "code",
   "execution_count": 72,
   "metadata": {},
   "outputs": [
    {
     "name": "stdout",
     "output_type": "stream",
     "text": [
      "\t\t\tTable 1 - cross validation error plots\n",
      "\t\t\t~~~~~~~~~~~~~~~~~~~~~~~~~~~~~~~~~\n"
     ]
    },
    {
     "data": {
      "text/plain": [
       "Text(0,0.5,'CV Error')"
      ]
     },
     "execution_count": 72,
     "metadata": {},
     "output_type": "execute_result"
    },
    {
     "data": {
      "image/png": "[encoded data removed]",
      "text/plain": [
       "<Figure size 576x576 with 2 Axes>"
      ]
     },
     "metadata": {},
     "output_type": "display_data"
    }
   ],
   "source": [
    "# Confusion Matrix\n",
    "fig, (ax1, ax2)= plt.subplots(2,1, figsize=(8,8))\n",
    "print('\\t\\t\\tTable 1 - cross validation error plots')\n",
    "print('\\t\\t\\t~~~~~~~~~~~~~~~~~~~~~~~~~~~~~~~~~')\n",
    "\n",
    "plt.subplots_adjust(left=None, bottom=None, right=None, top=None, wspace=None, hspace=0.5)\n",
    "\n",
    "\n",
    "ax1.plot(alpha, MSE_1)\n",
    "ax1.set_title('BoW -cross validation error plots')\n",
    "ax1.set_xlabel('alpha')\n",
    "ax1.set_ylabel('CV Error')\n",
    "\n",
    "ax2.plot(alpha,MSE_2)\n",
    "ax2.set_title('Tf-IDF -cross validation error plots')\n",
    "ax2.set_xlabel('alpha')\n",
    "ax2.set_ylabel('CV Error')\n",
    "\n",
    "\n"
   ]
  },
  {
   "cell_type": "code",
   "execution_count": 73,
   "metadata": {
    "scrolled": true
   },
   "outputs": [
    {
     "name": "stdout",
     "output_type": "stream",
     "text": [
      "\tTable 2 - Comparing Value of alpha, Train error and test error\n",
      "\t~~~~~~~~~~~~~~~~~~~~~~~~~~~~~~~~~~~~~~~~~~~~~~~~~~~~~~~~~~~~~~\n",
      "+-------+-------------------+-------------+------------+\n",
      "| Model | Hyper - Parameter | Train Error | Test Error |\n",
      "+-------+-------------------+-------------+------------+\n",
      "|  BoW  |       9.701       |    0.1484   |   0.1524   |\n",
      "| TF-ID |       9.801       |    0.143    |   0.146    |\n",
      "+-------+-------------------+-------------+------------+\n"
     ]
    }
   ],
   "source": [
    "# http://zetcode.com/python/prettytable/\n",
    "from prettytable import PrettyTable\n",
    "x = PrettyTable()\n",
    "x.field_names = [\"Model\", \"Hyper - Parameter\", \"Train Error\", \"Test Error\"]\n",
    "\n",
    "x.add_row([\"BoW\", alpha_BoW, Training_Error1, round(testError1,4)])\n",
    "x.add_row([\"TF-ID\", alpha_tfidf, Training_Error2, round(testError2,4)])\n",
    "print('\\tTable 2 - Comparing Value of alpha, Train error and test error')\n",
    "print('\\t~~~~~~~~~~~~~~~~~~~~~~~~~~~~~~~~~~~~~~~~~~~~~~~~~~~~~~~~~~~~~~')\n",
    "\n",
    "# print(x.get_string(title=\"Australian cities\"))\n",
    "print(x)"
   ]
  },
  {
   "cell_type": "code",
   "execution_count": 74,
   "metadata": {},
   "outputs": [
    {
     "name": "stdout",
     "output_type": "stream",
     "text": [
      "\t\t\tTable 3 - Perfomance Measurements\n",
      "\t\t\t~~~~~~~~~~~~~~~~~~~~~~~~~~~~~~~~~\n",
      "+-------+-------+----------+----------+-----------+-----------+--------------+--------------+\n",
      "| Model |  Acc. | f1(+ive) | f1(-ive) | Pre(+ive) | Pre(-ive) | Recall(+ive) | Recall(-ive) |\n",
      "+-------+-------+----------+----------+-----------+-----------+--------------+--------------+\n",
      "|  BoW  | 84.76 |  0.8435  |  0.8514  |   0.8258  |   0.8691  |    0.862     |    0.862     |\n",
      "| TF-ID |  85.4 |  0.8496  |  0.8581  |   0.8343  |   0.8732  |    0.8655    |    0.8655    |\n",
      "+-------+-------+----------+----------+-----------+-----------+--------------+--------------+\n"
     ]
    }
   ],
   "source": [
    "print('\\t\\t\\tTable 3 - Perfomance Measurements')\n",
    "print('\\t\\t\\t~~~~~~~~~~~~~~~~~~~~~~~~~~~~~~~~~')\n",
    "\n",
    "\n",
    "x = PrettyTable()\n",
    "x.field_names = [\"Model\",\"Acc.\", \"f1(+ive)\", \"f1(-ive)\",\n",
    "                 \"Pre(+ive)\", \"Pre(-ive)\",\"Recall(+ive)\", \"Recall(-ive)\",]\n",
    "\n",
    "x.add_row([\"BoW\", Accuracy1*100, round(f1_1[1],4),round(f1_1[0],4), \n",
    "           round(p1[1],4),round(p1[0],4),round(r1[1],4),round(r1[1],4)])\n",
    "x.add_row([\"TF-ID\",round(Accuracy2*100,2), round(f1_2[1],4),round(f1_2[0],4), \n",
    "           round(p2[1],4),round(p2[0],4),round(r2[1],4),round(r2[1],4)])\n",
    "\n",
    "print(x)\n",
    "\n"
   ]
  },
  {
   "cell_type": "code",
   "execution_count": 75,
   "metadata": {},
   "outputs": [
    {
     "name": "stdout",
     "output_type": "stream",
     "text": [
      "\t\t\tTable 4 - Confusion Matrix\n",
      "\t\t\t~~~~~~~~~~~~~~~~~~~~~~~~~~~~~~~~~\n"
     ]
    },
    {
     "data": {
      "text/plain": [
       "Text(0.5,1,'TF-IDF - Confusion Matrix')"
      ]
     },
     "execution_count": 75,
     "metadata": {},
     "output_type": "execute_result"
    },
    {
     "data": {
      "image/png": "[encoded data removed]",
      "text/plain": [
       "<Figure size 1080x1008 with 4 Axes>"
      ]
     },
     "metadata": {},
     "output_type": "display_data"
    }
   ],
   "source": [
    "# Confusion Matrix\n",
    "# fig, axs = plt.subplots(2,2, figsize=(8,8), sharey=True)\n",
    "print('\\t\\t\\tTable 4 - Confusion Matrix')\n",
    "print('\\t\\t\\t~~~~~~~~~~~~~~~~~~~~~~~~~~~~~~~~~')\n",
    "\n",
    "fig = plt.figure(figsize=(15,14))\n",
    "ax1 = fig.add_subplot(211)\n",
    "ax2 = fig.add_subplot(212)\n",
    "\n",
    "\n",
    "\n",
    "sn.set(font_scale=1.4)#for label size\n",
    "sn.heatmap(df_cm1, annot=True,annot_kws={\"size\": 12},ax=ax1)# font size\n",
    "ax1.set_title('BoW - Confusion Matrix')\n",
    "\n",
    "\n",
    "sn.set(font_scale=1.4)#for label size\n",
    "sn.heatmap(df_cm2, annot=True,annot_kws={\"size\": 12},ax=ax2)# font size\n",
    "ax2.set_title('TF-IDF - Confusion Matrix')\n"
   ]
  },
  {
   "cell_type": "code",
   "execution_count": null,
   "metadata": {},
   "outputs": [],
   "source": []
  }
 ],
 "metadata": {
  "kernelspec": {
   "display_name": "Python 3",
   "language": "python",
   "name": "python3"
  },
  "language_info": {
   "codemirror_mode": {
    "name": "ipython",
    "version": 3
   },
   "file_extension": ".py",
   "mimetype": "text/x-python",
   "name": "python",
   "nbconvert_exporter": "python",
   "pygments_lexer": "ipython3",
   "version": "3.5.4"
  }
 },
 "nbformat": 4,
 "nbformat_minor": 2
}
